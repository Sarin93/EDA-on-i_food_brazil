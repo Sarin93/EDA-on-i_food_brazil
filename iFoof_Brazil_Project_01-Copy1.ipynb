{
 "cells": [
  {
   "cell_type": "code",
   "execution_count": 1,
   "metadata": {
    "colab": {
     "base_uri": "https://localhost:8080/"
    },
    "id": "8SfwfEBPv6lS",
    "outputId": "dc0502e7-fa0c-496b-8b73-80fba77d8bc0"
   },
   "outputs": [
    {
     "name": "stdout",
     "output_type": "stream",
     "text": [
      "Requirement already satisfied: opendatasets in c:\\users\\sarin\\anaconda3\\lib\\site-packages (0.1.22)\n",
      "Requirement already satisfied: tqdm in c:\\users\\sarin\\anaconda3\\lib\\site-packages (from opendatasets) (4.65.0)\n",
      "Requirement already satisfied: kaggle in c:\\users\\sarin\\anaconda3\\lib\\site-packages (from opendatasets) (1.6.6)\n",
      "Requirement already satisfied: click in c:\\users\\sarin\\anaconda3\\lib\\site-packages (from opendatasets) (8.0.4)\n",
      "Requirement already satisfied: colorama in c:\\users\\sarin\\anaconda3\\lib\\site-packages (from click->opendatasets) (0.4.6)\n",
      "Requirement already satisfied: six>=1.10 in c:\\users\\sarin\\anaconda3\\lib\\site-packages (from kaggle->opendatasets) (1.16.0)\n",
      "Requirement already satisfied: certifi in c:\\users\\sarin\\anaconda3\\lib\\site-packages (from kaggle->opendatasets) (2024.2.2)\n",
      "Requirement already satisfied: python-dateutil in c:\\users\\sarin\\anaconda3\\lib\\site-packages (from kaggle->opendatasets) (2.8.2)\n",
      "Requirement already satisfied: requests in c:\\users\\sarin\\anaconda3\\lib\\site-packages (from kaggle->opendatasets) (2.31.0)\n",
      "Requirement already satisfied: python-slugify in c:\\users\\sarin\\anaconda3\\lib\\site-packages (from kaggle->opendatasets) (5.0.2)\n",
      "Requirement already satisfied: urllib3 in c:\\users\\sarin\\anaconda3\\lib\\site-packages (from kaggle->opendatasets) (1.26.16)\n",
      "Requirement already satisfied: bleach in c:\\users\\sarin\\anaconda3\\lib\\site-packages (from kaggle->opendatasets) (4.1.0)\n",
      "Requirement already satisfied: packaging in c:\\users\\sarin\\anaconda3\\lib\\site-packages (from bleach->kaggle->opendatasets) (23.1)\n",
      "Requirement already satisfied: webencodings in c:\\users\\sarin\\anaconda3\\lib\\site-packages (from bleach->kaggle->opendatasets) (0.5.1)\n",
      "Requirement already satisfied: text-unidecode>=1.3 in c:\\users\\sarin\\anaconda3\\lib\\site-packages (from python-slugify->kaggle->opendatasets) (1.3)\n",
      "Requirement already satisfied: charset-normalizer<4,>=2 in c:\\users\\sarin\\anaconda3\\lib\\site-packages (from requests->kaggle->opendatasets) (2.0.4)\n",
      "Requirement already satisfied: idna<4,>=2.5 in c:\\users\\sarin\\anaconda3\\lib\\site-packages (from requests->kaggle->opendatasets) (3.4)\n"
     ]
    }
   ],
   "source": [
    "!pip install opendatasets"
   ]
  },
  {
   "cell_type": "code",
   "execution_count": 2,
   "metadata": {
    "colab": {
     "base_uri": "https://localhost:8080/"
    },
    "id": "PtFUR8XDwX7r",
    "outputId": "5df045a2-d889-4c7f-df01-6fa47103e551"
   },
   "outputs": [
    {
     "name": "stdout",
     "output_type": "stream",
     "text": [
      "Skipping, found downloaded files in \".\\marketing-data\" (use force=True to force download)\n"
     ]
    }
   ],
   "source": [
    "import opendatasets as od   #downloading dataset from kaggle\n",
    "\n",
    "# Kaggle username = sarinpillai\n",
    "# Kaggle key : 0ec8cff57cbb3bf9f830761becf20d1f\n",
    "\n",
    "od.download(\"https://www.kaggle.com/datasets/jackdaoud/marketing-data\")"
   ]
  },
  {
   "cell_type": "code",
   "execution_count": 3,
   "metadata": {
    "id": "ISO1otevwYF-"
   },
   "outputs": [],
   "source": [
    "import pandas as pd"
   ]
  },
  {
   "cell_type": "code",
   "execution_count": 7,
   "metadata": {
    "id": "gYsqMZBXwYIq"
   },
   "outputs": [],
   "source": [
    "data = pd.read_csv(\"ifood_df.csv\")"
   ]
  },
  {
   "cell_type": "code",
   "execution_count": 8,
   "metadata": {
    "colab": {
     "base_uri": "https://localhost:8080/",
     "height": 461
    },
    "id": "nVlo5UB-wYLb",
    "outputId": "2d0b5ee3-bdef-4d8e-edd9-2369c24c790c"
   },
   "outputs": [
    {
     "data": {
      "text/html": [
       "<div>\n",
       "<style scoped>\n",
       "    .dataframe tbody tr th:only-of-type {\n",
       "        vertical-align: middle;\n",
       "    }\n",
       "\n",
       "    .dataframe tbody tr th {\n",
       "        vertical-align: top;\n",
       "    }\n",
       "\n",
       "    .dataframe thead th {\n",
       "        text-align: right;\n",
       "    }\n",
       "</style>\n",
       "<table border=\"1\" class=\"dataframe\">\n",
       "  <thead>\n",
       "    <tr style=\"text-align: right;\">\n",
       "      <th></th>\n",
       "      <th>Income</th>\n",
       "      <th>Kidhome</th>\n",
       "      <th>Teenhome</th>\n",
       "      <th>Recency</th>\n",
       "      <th>MntWines</th>\n",
       "      <th>MntFruits</th>\n",
       "      <th>MntMeatProducts</th>\n",
       "      <th>MntFishProducts</th>\n",
       "      <th>MntSweetProducts</th>\n",
       "      <th>MntGoldProds</th>\n",
       "      <th>...</th>\n",
       "      <th>marital_Together</th>\n",
       "      <th>marital_Widow</th>\n",
       "      <th>education_2n Cycle</th>\n",
       "      <th>education_Basic</th>\n",
       "      <th>education_Graduation</th>\n",
       "      <th>education_Master</th>\n",
       "      <th>education_PhD</th>\n",
       "      <th>MntTotal</th>\n",
       "      <th>MntRegularProds</th>\n",
       "      <th>AcceptedCmpOverall</th>\n",
       "    </tr>\n",
       "  </thead>\n",
       "  <tbody>\n",
       "    <tr>\n",
       "      <th>0</th>\n",
       "      <td>58138.0</td>\n",
       "      <td>0</td>\n",
       "      <td>0</td>\n",
       "      <td>58</td>\n",
       "      <td>635</td>\n",
       "      <td>88</td>\n",
       "      <td>546</td>\n",
       "      <td>172</td>\n",
       "      <td>88</td>\n",
       "      <td>88</td>\n",
       "      <td>...</td>\n",
       "      <td>0</td>\n",
       "      <td>0</td>\n",
       "      <td>0</td>\n",
       "      <td>0</td>\n",
       "      <td>1</td>\n",
       "      <td>0</td>\n",
       "      <td>0</td>\n",
       "      <td>1529</td>\n",
       "      <td>1441</td>\n",
       "      <td>0</td>\n",
       "    </tr>\n",
       "    <tr>\n",
       "      <th>1</th>\n",
       "      <td>46344.0</td>\n",
       "      <td>1</td>\n",
       "      <td>1</td>\n",
       "      <td>38</td>\n",
       "      <td>11</td>\n",
       "      <td>1</td>\n",
       "      <td>6</td>\n",
       "      <td>2</td>\n",
       "      <td>1</td>\n",
       "      <td>6</td>\n",
       "      <td>...</td>\n",
       "      <td>0</td>\n",
       "      <td>0</td>\n",
       "      <td>0</td>\n",
       "      <td>0</td>\n",
       "      <td>1</td>\n",
       "      <td>0</td>\n",
       "      <td>0</td>\n",
       "      <td>21</td>\n",
       "      <td>15</td>\n",
       "      <td>0</td>\n",
       "    </tr>\n",
       "    <tr>\n",
       "      <th>2</th>\n",
       "      <td>71613.0</td>\n",
       "      <td>0</td>\n",
       "      <td>0</td>\n",
       "      <td>26</td>\n",
       "      <td>426</td>\n",
       "      <td>49</td>\n",
       "      <td>127</td>\n",
       "      <td>111</td>\n",
       "      <td>21</td>\n",
       "      <td>42</td>\n",
       "      <td>...</td>\n",
       "      <td>1</td>\n",
       "      <td>0</td>\n",
       "      <td>0</td>\n",
       "      <td>0</td>\n",
       "      <td>1</td>\n",
       "      <td>0</td>\n",
       "      <td>0</td>\n",
       "      <td>734</td>\n",
       "      <td>692</td>\n",
       "      <td>0</td>\n",
       "    </tr>\n",
       "    <tr>\n",
       "      <th>3</th>\n",
       "      <td>26646.0</td>\n",
       "      <td>1</td>\n",
       "      <td>0</td>\n",
       "      <td>26</td>\n",
       "      <td>11</td>\n",
       "      <td>4</td>\n",
       "      <td>20</td>\n",
       "      <td>10</td>\n",
       "      <td>3</td>\n",
       "      <td>5</td>\n",
       "      <td>...</td>\n",
       "      <td>1</td>\n",
       "      <td>0</td>\n",
       "      <td>0</td>\n",
       "      <td>0</td>\n",
       "      <td>1</td>\n",
       "      <td>0</td>\n",
       "      <td>0</td>\n",
       "      <td>48</td>\n",
       "      <td>43</td>\n",
       "      <td>0</td>\n",
       "    </tr>\n",
       "    <tr>\n",
       "      <th>4</th>\n",
       "      <td>58293.0</td>\n",
       "      <td>1</td>\n",
       "      <td>0</td>\n",
       "      <td>94</td>\n",
       "      <td>173</td>\n",
       "      <td>43</td>\n",
       "      <td>118</td>\n",
       "      <td>46</td>\n",
       "      <td>27</td>\n",
       "      <td>15</td>\n",
       "      <td>...</td>\n",
       "      <td>0</td>\n",
       "      <td>0</td>\n",
       "      <td>0</td>\n",
       "      <td>0</td>\n",
       "      <td>0</td>\n",
       "      <td>0</td>\n",
       "      <td>1</td>\n",
       "      <td>407</td>\n",
       "      <td>392</td>\n",
       "      <td>0</td>\n",
       "    </tr>\n",
       "    <tr>\n",
       "      <th>...</th>\n",
       "      <td>...</td>\n",
       "      <td>...</td>\n",
       "      <td>...</td>\n",
       "      <td>...</td>\n",
       "      <td>...</td>\n",
       "      <td>...</td>\n",
       "      <td>...</td>\n",
       "      <td>...</td>\n",
       "      <td>...</td>\n",
       "      <td>...</td>\n",
       "      <td>...</td>\n",
       "      <td>...</td>\n",
       "      <td>...</td>\n",
       "      <td>...</td>\n",
       "      <td>...</td>\n",
       "      <td>...</td>\n",
       "      <td>...</td>\n",
       "      <td>...</td>\n",
       "      <td>...</td>\n",
       "      <td>...</td>\n",
       "      <td>...</td>\n",
       "    </tr>\n",
       "    <tr>\n",
       "      <th>2200</th>\n",
       "      <td>61223.0</td>\n",
       "      <td>0</td>\n",
       "      <td>1</td>\n",
       "      <td>46</td>\n",
       "      <td>709</td>\n",
       "      <td>43</td>\n",
       "      <td>182</td>\n",
       "      <td>42</td>\n",
       "      <td>118</td>\n",
       "      <td>247</td>\n",
       "      <td>...</td>\n",
       "      <td>0</td>\n",
       "      <td>0</td>\n",
       "      <td>0</td>\n",
       "      <td>0</td>\n",
       "      <td>1</td>\n",
       "      <td>0</td>\n",
       "      <td>0</td>\n",
       "      <td>1094</td>\n",
       "      <td>847</td>\n",
       "      <td>0</td>\n",
       "    </tr>\n",
       "    <tr>\n",
       "      <th>2201</th>\n",
       "      <td>64014.0</td>\n",
       "      <td>2</td>\n",
       "      <td>1</td>\n",
       "      <td>56</td>\n",
       "      <td>406</td>\n",
       "      <td>0</td>\n",
       "      <td>30</td>\n",
       "      <td>0</td>\n",
       "      <td>0</td>\n",
       "      <td>8</td>\n",
       "      <td>...</td>\n",
       "      <td>1</td>\n",
       "      <td>0</td>\n",
       "      <td>0</td>\n",
       "      <td>0</td>\n",
       "      <td>0</td>\n",
       "      <td>0</td>\n",
       "      <td>1</td>\n",
       "      <td>436</td>\n",
       "      <td>428</td>\n",
       "      <td>1</td>\n",
       "    </tr>\n",
       "    <tr>\n",
       "      <th>2202</th>\n",
       "      <td>56981.0</td>\n",
       "      <td>0</td>\n",
       "      <td>0</td>\n",
       "      <td>91</td>\n",
       "      <td>908</td>\n",
       "      <td>48</td>\n",
       "      <td>217</td>\n",
       "      <td>32</td>\n",
       "      <td>12</td>\n",
       "      <td>24</td>\n",
       "      <td>...</td>\n",
       "      <td>0</td>\n",
       "      <td>0</td>\n",
       "      <td>0</td>\n",
       "      <td>0</td>\n",
       "      <td>1</td>\n",
       "      <td>0</td>\n",
       "      <td>0</td>\n",
       "      <td>1217</td>\n",
       "      <td>1193</td>\n",
       "      <td>1</td>\n",
       "    </tr>\n",
       "    <tr>\n",
       "      <th>2203</th>\n",
       "      <td>69245.0</td>\n",
       "      <td>0</td>\n",
       "      <td>1</td>\n",
       "      <td>8</td>\n",
       "      <td>428</td>\n",
       "      <td>30</td>\n",
       "      <td>214</td>\n",
       "      <td>80</td>\n",
       "      <td>30</td>\n",
       "      <td>61</td>\n",
       "      <td>...</td>\n",
       "      <td>1</td>\n",
       "      <td>0</td>\n",
       "      <td>0</td>\n",
       "      <td>0</td>\n",
       "      <td>0</td>\n",
       "      <td>1</td>\n",
       "      <td>0</td>\n",
       "      <td>782</td>\n",
       "      <td>721</td>\n",
       "      <td>0</td>\n",
       "    </tr>\n",
       "    <tr>\n",
       "      <th>2204</th>\n",
       "      <td>52869.0</td>\n",
       "      <td>1</td>\n",
       "      <td>1</td>\n",
       "      <td>40</td>\n",
       "      <td>84</td>\n",
       "      <td>3</td>\n",
       "      <td>61</td>\n",
       "      <td>2</td>\n",
       "      <td>1</td>\n",
       "      <td>21</td>\n",
       "      <td>...</td>\n",
       "      <td>0</td>\n",
       "      <td>0</td>\n",
       "      <td>0</td>\n",
       "      <td>0</td>\n",
       "      <td>0</td>\n",
       "      <td>0</td>\n",
       "      <td>1</td>\n",
       "      <td>151</td>\n",
       "      <td>130</td>\n",
       "      <td>0</td>\n",
       "    </tr>\n",
       "  </tbody>\n",
       "</table>\n",
       "<p>2205 rows × 39 columns</p>\n",
       "</div>"
      ],
      "text/plain": [
       "       Income  Kidhome  Teenhome  Recency  MntWines  MntFruits  \\\n",
       "0     58138.0        0         0       58       635         88   \n",
       "1     46344.0        1         1       38        11          1   \n",
       "2     71613.0        0         0       26       426         49   \n",
       "3     26646.0        1         0       26        11          4   \n",
       "4     58293.0        1         0       94       173         43   \n",
       "...       ...      ...       ...      ...       ...        ...   \n",
       "2200  61223.0        0         1       46       709         43   \n",
       "2201  64014.0        2         1       56       406          0   \n",
       "2202  56981.0        0         0       91       908         48   \n",
       "2203  69245.0        0         1        8       428         30   \n",
       "2204  52869.0        1         1       40        84          3   \n",
       "\n",
       "      MntMeatProducts  MntFishProducts  MntSweetProducts  MntGoldProds  ...  \\\n",
       "0                 546              172                88            88  ...   \n",
       "1                   6                2                 1             6  ...   \n",
       "2                 127              111                21            42  ...   \n",
       "3                  20               10                 3             5  ...   \n",
       "4                 118               46                27            15  ...   \n",
       "...               ...              ...               ...           ...  ...   \n",
       "2200              182               42               118           247  ...   \n",
       "2201               30                0                 0             8  ...   \n",
       "2202              217               32                12            24  ...   \n",
       "2203              214               80                30            61  ...   \n",
       "2204               61                2                 1            21  ...   \n",
       "\n",
       "      marital_Together  marital_Widow  education_2n Cycle  education_Basic  \\\n",
       "0                    0              0                   0                0   \n",
       "1                    0              0                   0                0   \n",
       "2                    1              0                   0                0   \n",
       "3                    1              0                   0                0   \n",
       "4                    0              0                   0                0   \n",
       "...                ...            ...                 ...              ...   \n",
       "2200                 0              0                   0                0   \n",
       "2201                 1              0                   0                0   \n",
       "2202                 0              0                   0                0   \n",
       "2203                 1              0                   0                0   \n",
       "2204                 0              0                   0                0   \n",
       "\n",
       "      education_Graduation  education_Master  education_PhD  MntTotal  \\\n",
       "0                        1                 0              0      1529   \n",
       "1                        1                 0              0        21   \n",
       "2                        1                 0              0       734   \n",
       "3                        1                 0              0        48   \n",
       "4                        0                 0              1       407   \n",
       "...                    ...               ...            ...       ...   \n",
       "2200                     1                 0              0      1094   \n",
       "2201                     0                 0              1       436   \n",
       "2202                     1                 0              0      1217   \n",
       "2203                     0                 1              0       782   \n",
       "2204                     0                 0              1       151   \n",
       "\n",
       "      MntRegularProds  AcceptedCmpOverall  \n",
       "0                1441                   0  \n",
       "1                  15                   0  \n",
       "2                 692                   0  \n",
       "3                  43                   0  \n",
       "4                 392                   0  \n",
       "...               ...                 ...  \n",
       "2200              847                   0  \n",
       "2201              428                   1  \n",
       "2202             1193                   1  \n",
       "2203              721                   0  \n",
       "2204              130                   0  \n",
       "\n",
       "[2205 rows x 39 columns]"
      ]
     },
     "execution_count": 8,
     "metadata": {},
     "output_type": "execute_result"
    }
   ],
   "source": [
    "data    # complete dataset of i_food_brazil"
   ]
  },
  {
   "cell_type": "code",
   "execution_count": 9,
   "metadata": {
    "colab": {
     "base_uri": "https://localhost:8080/"
    },
    "id": "uY_iqh234CeT",
    "outputId": "5ef2cef1-da54-41ef-df34-8d57b4e16e8d"
   },
   "outputs": [
    {
     "data": {
      "text/plain": [
       "RangeIndex(start=0, stop=2205, step=1)"
      ]
     },
     "execution_count": 9,
     "metadata": {},
     "output_type": "execute_result"
    }
   ],
   "source": [
    "data['Income'].index"
   ]
  },
  {
   "cell_type": "code",
   "execution_count": 10,
   "metadata": {
    "colab": {
     "base_uri": "https://localhost:8080/"
    },
    "id": "Zvmoz8TCwYN-",
    "outputId": "f2f65883-3820-4046-82d4-a4c6185e73f3"
   },
   "outputs": [
    {
     "data": {
      "text/plain": [
       "Index(['Income', 'Kidhome', 'Teenhome', 'Recency', 'MntWines', 'MntFruits',\n",
       "       'MntMeatProducts', 'MntFishProducts', 'MntSweetProducts',\n",
       "       'MntGoldProds', 'NumDealsPurchases', 'NumWebPurchases',\n",
       "       'NumCatalogPurchases', 'NumStorePurchases', 'NumWebVisitsMonth',\n",
       "       'AcceptedCmp3', 'AcceptedCmp4', 'AcceptedCmp5', 'AcceptedCmp1',\n",
       "       'AcceptedCmp2', 'Complain', 'Z_CostContact', 'Z_Revenue', 'Response',\n",
       "       'Age', 'Customer_Days', 'marital_Divorced', 'marital_Married',\n",
       "       'marital_Single', 'marital_Together', 'marital_Widow',\n",
       "       'education_2n Cycle', 'education_Basic', 'education_Graduation',\n",
       "       'education_Master', 'education_PhD', 'MntTotal', 'MntRegularProds',\n",
       "       'AcceptedCmpOverall'],\n",
       "      dtype='object')"
      ]
     },
     "execution_count": 10,
     "metadata": {},
     "output_type": "execute_result"
    }
   ],
   "source": [
    "data.columns     #identifying total columns"
   ]
  },
  {
   "cell_type": "code",
   "execution_count": 11,
   "metadata": {
    "colab": {
     "base_uri": "https://localhost:8080/",
     "height": 367
    },
    "id": "Or2q8fuiWnZn",
    "outputId": "9e38a28b-8e8a-4257-bfd8-943afa8ebc08"
   },
   "outputs": [
    {
     "data": {
      "text/html": [
       "<div>\n",
       "<style scoped>\n",
       "    .dataframe tbody tr th:only-of-type {\n",
       "        vertical-align: middle;\n",
       "    }\n",
       "\n",
       "    .dataframe tbody tr th {\n",
       "        vertical-align: top;\n",
       "    }\n",
       "\n",
       "    .dataframe thead th {\n",
       "        text-align: right;\n",
       "    }\n",
       "</style>\n",
       "<table border=\"1\" class=\"dataframe\">\n",
       "  <thead>\n",
       "    <tr style=\"text-align: right;\">\n",
       "      <th></th>\n",
       "      <th>Income</th>\n",
       "      <th>Kidhome</th>\n",
       "      <th>Teenhome</th>\n",
       "      <th>Recency</th>\n",
       "      <th>MntWines</th>\n",
       "      <th>MntFruits</th>\n",
       "      <th>MntMeatProducts</th>\n",
       "      <th>MntFishProducts</th>\n",
       "      <th>MntSweetProducts</th>\n",
       "      <th>MntGoldProds</th>\n",
       "      <th>...</th>\n",
       "      <th>marital_Together</th>\n",
       "      <th>marital_Widow</th>\n",
       "      <th>education_2n Cycle</th>\n",
       "      <th>education_Basic</th>\n",
       "      <th>education_Graduation</th>\n",
       "      <th>education_Master</th>\n",
       "      <th>education_PhD</th>\n",
       "      <th>MntTotal</th>\n",
       "      <th>MntRegularProds</th>\n",
       "      <th>AcceptedCmpOverall</th>\n",
       "    </tr>\n",
       "  </thead>\n",
       "  <tbody>\n",
       "    <tr>\n",
       "      <th>count</th>\n",
       "      <td>2205.000000</td>\n",
       "      <td>2205.000000</td>\n",
       "      <td>2205.000000</td>\n",
       "      <td>2205.000000</td>\n",
       "      <td>2205.000000</td>\n",
       "      <td>2205.000000</td>\n",
       "      <td>2205.000000</td>\n",
       "      <td>2205.000000</td>\n",
       "      <td>2205.000000</td>\n",
       "      <td>2205.000000</td>\n",
       "      <td>...</td>\n",
       "      <td>2205.000000</td>\n",
       "      <td>2205.000000</td>\n",
       "      <td>2205.000000</td>\n",
       "      <td>2205.000000</td>\n",
       "      <td>2205.000000</td>\n",
       "      <td>2205.000000</td>\n",
       "      <td>2205.000000</td>\n",
       "      <td>2205.000000</td>\n",
       "      <td>2205.000000</td>\n",
       "      <td>2205.00000</td>\n",
       "    </tr>\n",
       "    <tr>\n",
       "      <th>mean</th>\n",
       "      <td>51622.094785</td>\n",
       "      <td>0.442177</td>\n",
       "      <td>0.506576</td>\n",
       "      <td>49.009070</td>\n",
       "      <td>306.164626</td>\n",
       "      <td>26.403175</td>\n",
       "      <td>165.312018</td>\n",
       "      <td>37.756463</td>\n",
       "      <td>27.128345</td>\n",
       "      <td>44.057143</td>\n",
       "      <td>...</td>\n",
       "      <td>0.257596</td>\n",
       "      <td>0.034467</td>\n",
       "      <td>0.089796</td>\n",
       "      <td>0.024490</td>\n",
       "      <td>0.504762</td>\n",
       "      <td>0.165079</td>\n",
       "      <td>0.215873</td>\n",
       "      <td>562.764626</td>\n",
       "      <td>518.707483</td>\n",
       "      <td>0.29932</td>\n",
       "    </tr>\n",
       "    <tr>\n",
       "      <th>std</th>\n",
       "      <td>20713.063826</td>\n",
       "      <td>0.537132</td>\n",
       "      <td>0.544380</td>\n",
       "      <td>28.932111</td>\n",
       "      <td>337.493839</td>\n",
       "      <td>39.784484</td>\n",
       "      <td>217.784507</td>\n",
       "      <td>54.824635</td>\n",
       "      <td>41.130468</td>\n",
       "      <td>51.736211</td>\n",
       "      <td>...</td>\n",
       "      <td>0.437410</td>\n",
       "      <td>0.182467</td>\n",
       "      <td>0.285954</td>\n",
       "      <td>0.154599</td>\n",
       "      <td>0.500091</td>\n",
       "      <td>0.371336</td>\n",
       "      <td>0.411520</td>\n",
       "      <td>575.936911</td>\n",
       "      <td>553.847248</td>\n",
       "      <td>0.68044</td>\n",
       "    </tr>\n",
       "    <tr>\n",
       "      <th>min</th>\n",
       "      <td>1730.000000</td>\n",
       "      <td>0.000000</td>\n",
       "      <td>0.000000</td>\n",
       "      <td>0.000000</td>\n",
       "      <td>0.000000</td>\n",
       "      <td>0.000000</td>\n",
       "      <td>0.000000</td>\n",
       "      <td>0.000000</td>\n",
       "      <td>0.000000</td>\n",
       "      <td>0.000000</td>\n",
       "      <td>...</td>\n",
       "      <td>0.000000</td>\n",
       "      <td>0.000000</td>\n",
       "      <td>0.000000</td>\n",
       "      <td>0.000000</td>\n",
       "      <td>0.000000</td>\n",
       "      <td>0.000000</td>\n",
       "      <td>0.000000</td>\n",
       "      <td>4.000000</td>\n",
       "      <td>-283.000000</td>\n",
       "      <td>0.00000</td>\n",
       "    </tr>\n",
       "    <tr>\n",
       "      <th>25%</th>\n",
       "      <td>35196.000000</td>\n",
       "      <td>0.000000</td>\n",
       "      <td>0.000000</td>\n",
       "      <td>24.000000</td>\n",
       "      <td>24.000000</td>\n",
       "      <td>2.000000</td>\n",
       "      <td>16.000000</td>\n",
       "      <td>3.000000</td>\n",
       "      <td>1.000000</td>\n",
       "      <td>9.000000</td>\n",
       "      <td>...</td>\n",
       "      <td>0.000000</td>\n",
       "      <td>0.000000</td>\n",
       "      <td>0.000000</td>\n",
       "      <td>0.000000</td>\n",
       "      <td>0.000000</td>\n",
       "      <td>0.000000</td>\n",
       "      <td>0.000000</td>\n",
       "      <td>56.000000</td>\n",
       "      <td>42.000000</td>\n",
       "      <td>0.00000</td>\n",
       "    </tr>\n",
       "    <tr>\n",
       "      <th>50%</th>\n",
       "      <td>51287.000000</td>\n",
       "      <td>0.000000</td>\n",
       "      <td>0.000000</td>\n",
       "      <td>49.000000</td>\n",
       "      <td>178.000000</td>\n",
       "      <td>8.000000</td>\n",
       "      <td>68.000000</td>\n",
       "      <td>12.000000</td>\n",
       "      <td>8.000000</td>\n",
       "      <td>25.000000</td>\n",
       "      <td>...</td>\n",
       "      <td>0.000000</td>\n",
       "      <td>0.000000</td>\n",
       "      <td>0.000000</td>\n",
       "      <td>0.000000</td>\n",
       "      <td>1.000000</td>\n",
       "      <td>0.000000</td>\n",
       "      <td>0.000000</td>\n",
       "      <td>343.000000</td>\n",
       "      <td>288.000000</td>\n",
       "      <td>0.00000</td>\n",
       "    </tr>\n",
       "    <tr>\n",
       "      <th>75%</th>\n",
       "      <td>68281.000000</td>\n",
       "      <td>1.000000</td>\n",
       "      <td>1.000000</td>\n",
       "      <td>74.000000</td>\n",
       "      <td>507.000000</td>\n",
       "      <td>33.000000</td>\n",
       "      <td>232.000000</td>\n",
       "      <td>50.000000</td>\n",
       "      <td>34.000000</td>\n",
       "      <td>56.000000</td>\n",
       "      <td>...</td>\n",
       "      <td>1.000000</td>\n",
       "      <td>0.000000</td>\n",
       "      <td>0.000000</td>\n",
       "      <td>0.000000</td>\n",
       "      <td>1.000000</td>\n",
       "      <td>0.000000</td>\n",
       "      <td>0.000000</td>\n",
       "      <td>964.000000</td>\n",
       "      <td>884.000000</td>\n",
       "      <td>0.00000</td>\n",
       "    </tr>\n",
       "    <tr>\n",
       "      <th>max</th>\n",
       "      <td>113734.000000</td>\n",
       "      <td>2.000000</td>\n",
       "      <td>2.000000</td>\n",
       "      <td>99.000000</td>\n",
       "      <td>1493.000000</td>\n",
       "      <td>199.000000</td>\n",
       "      <td>1725.000000</td>\n",
       "      <td>259.000000</td>\n",
       "      <td>262.000000</td>\n",
       "      <td>321.000000</td>\n",
       "      <td>...</td>\n",
       "      <td>1.000000</td>\n",
       "      <td>1.000000</td>\n",
       "      <td>1.000000</td>\n",
       "      <td>1.000000</td>\n",
       "      <td>1.000000</td>\n",
       "      <td>1.000000</td>\n",
       "      <td>1.000000</td>\n",
       "      <td>2491.000000</td>\n",
       "      <td>2458.000000</td>\n",
       "      <td>4.00000</td>\n",
       "    </tr>\n",
       "  </tbody>\n",
       "</table>\n",
       "<p>8 rows × 39 columns</p>\n",
       "</div>"
      ],
      "text/plain": [
       "              Income      Kidhome     Teenhome      Recency     MntWines  \\\n",
       "count    2205.000000  2205.000000  2205.000000  2205.000000  2205.000000   \n",
       "mean    51622.094785     0.442177     0.506576    49.009070   306.164626   \n",
       "std     20713.063826     0.537132     0.544380    28.932111   337.493839   \n",
       "min      1730.000000     0.000000     0.000000     0.000000     0.000000   \n",
       "25%     35196.000000     0.000000     0.000000    24.000000    24.000000   \n",
       "50%     51287.000000     0.000000     0.000000    49.000000   178.000000   \n",
       "75%     68281.000000     1.000000     1.000000    74.000000   507.000000   \n",
       "max    113734.000000     2.000000     2.000000    99.000000  1493.000000   \n",
       "\n",
       "         MntFruits  MntMeatProducts  MntFishProducts  MntSweetProducts  \\\n",
       "count  2205.000000      2205.000000      2205.000000       2205.000000   \n",
       "mean     26.403175       165.312018        37.756463         27.128345   \n",
       "std      39.784484       217.784507        54.824635         41.130468   \n",
       "min       0.000000         0.000000         0.000000          0.000000   \n",
       "25%       2.000000        16.000000         3.000000          1.000000   \n",
       "50%       8.000000        68.000000        12.000000          8.000000   \n",
       "75%      33.000000       232.000000        50.000000         34.000000   \n",
       "max     199.000000      1725.000000       259.000000        262.000000   \n",
       "\n",
       "       MntGoldProds  ...  marital_Together  marital_Widow  education_2n Cycle  \\\n",
       "count   2205.000000  ...       2205.000000    2205.000000         2205.000000   \n",
       "mean      44.057143  ...          0.257596       0.034467            0.089796   \n",
       "std       51.736211  ...          0.437410       0.182467            0.285954   \n",
       "min        0.000000  ...          0.000000       0.000000            0.000000   \n",
       "25%        9.000000  ...          0.000000       0.000000            0.000000   \n",
       "50%       25.000000  ...          0.000000       0.000000            0.000000   \n",
       "75%       56.000000  ...          1.000000       0.000000            0.000000   \n",
       "max      321.000000  ...          1.000000       1.000000            1.000000   \n",
       "\n",
       "       education_Basic  education_Graduation  education_Master  education_PhD  \\\n",
       "count      2205.000000           2205.000000       2205.000000    2205.000000   \n",
       "mean          0.024490              0.504762          0.165079       0.215873   \n",
       "std           0.154599              0.500091          0.371336       0.411520   \n",
       "min           0.000000              0.000000          0.000000       0.000000   \n",
       "25%           0.000000              0.000000          0.000000       0.000000   \n",
       "50%           0.000000              1.000000          0.000000       0.000000   \n",
       "75%           0.000000              1.000000          0.000000       0.000000   \n",
       "max           1.000000              1.000000          1.000000       1.000000   \n",
       "\n",
       "          MntTotal  MntRegularProds  AcceptedCmpOverall  \n",
       "count  2205.000000      2205.000000          2205.00000  \n",
       "mean    562.764626       518.707483             0.29932  \n",
       "std     575.936911       553.847248             0.68044  \n",
       "min       4.000000      -283.000000             0.00000  \n",
       "25%      56.000000        42.000000             0.00000  \n",
       "50%     343.000000       288.000000             0.00000  \n",
       "75%     964.000000       884.000000             0.00000  \n",
       "max    2491.000000      2458.000000             4.00000  \n",
       "\n",
       "[8 rows x 39 columns]"
      ]
     },
     "execution_count": 11,
     "metadata": {},
     "output_type": "execute_result"
    }
   ],
   "source": [
    "data.describe()    #getting general data for reference"
   ]
  },
  {
   "cell_type": "code",
   "execution_count": 12,
   "metadata": {
    "colab": {
     "base_uri": "https://localhost:8080/",
     "height": 423
    },
    "id": "tXy7j8jlJCqv",
    "outputId": "82356b4f-7afd-47dd-f453-e5c24c43ac55"
   },
   "outputs": [
    {
     "data": {
      "text/html": [
       "<div>\n",
       "<style scoped>\n",
       "    .dataframe tbody tr th:only-of-type {\n",
       "        vertical-align: middle;\n",
       "    }\n",
       "\n",
       "    .dataframe tbody tr th {\n",
       "        vertical-align: top;\n",
       "    }\n",
       "\n",
       "    .dataframe thead th {\n",
       "        text-align: right;\n",
       "    }\n",
       "</style>\n",
       "<table border=\"1\" class=\"dataframe\">\n",
       "  <thead>\n",
       "    <tr style=\"text-align: right;\">\n",
       "      <th></th>\n",
       "      <th>Income</th>\n",
       "    </tr>\n",
       "  </thead>\n",
       "  <tbody>\n",
       "    <tr>\n",
       "      <th>0</th>\n",
       "      <td>58138.0</td>\n",
       "    </tr>\n",
       "    <tr>\n",
       "      <th>1</th>\n",
       "      <td>46344.0</td>\n",
       "    </tr>\n",
       "    <tr>\n",
       "      <th>2</th>\n",
       "      <td>71613.0</td>\n",
       "    </tr>\n",
       "    <tr>\n",
       "      <th>3</th>\n",
       "      <td>26646.0</td>\n",
       "    </tr>\n",
       "    <tr>\n",
       "      <th>4</th>\n",
       "      <td>58293.0</td>\n",
       "    </tr>\n",
       "    <tr>\n",
       "      <th>...</th>\n",
       "      <td>...</td>\n",
       "    </tr>\n",
       "    <tr>\n",
       "      <th>2200</th>\n",
       "      <td>61223.0</td>\n",
       "    </tr>\n",
       "    <tr>\n",
       "      <th>2201</th>\n",
       "      <td>64014.0</td>\n",
       "    </tr>\n",
       "    <tr>\n",
       "      <th>2202</th>\n",
       "      <td>56981.0</td>\n",
       "    </tr>\n",
       "    <tr>\n",
       "      <th>2203</th>\n",
       "      <td>69245.0</td>\n",
       "    </tr>\n",
       "    <tr>\n",
       "      <th>2204</th>\n",
       "      <td>52869.0</td>\n",
       "    </tr>\n",
       "  </tbody>\n",
       "</table>\n",
       "<p>2205 rows × 1 columns</p>\n",
       "</div>"
      ],
      "text/plain": [
       "       Income\n",
       "0     58138.0\n",
       "1     46344.0\n",
       "2     71613.0\n",
       "3     26646.0\n",
       "4     58293.0\n",
       "...       ...\n",
       "2200  61223.0\n",
       "2201  64014.0\n",
       "2202  56981.0\n",
       "2203  69245.0\n",
       "2204  52869.0\n",
       "\n",
       "[2205 rows x 1 columns]"
      ]
     },
     "execution_count": 12,
     "metadata": {},
     "output_type": "execute_result"
    }
   ],
   "source": [
    "data[['Income']]      #will be using income column for for futher analysis"
   ]
  },
  {
   "cell_type": "code",
   "execution_count": 13,
   "metadata": {
    "colab": {
     "base_uri": "https://localhost:8080/",
     "height": 206
    },
    "id": "jx44HU6twYQy",
    "outputId": "dc52aa83-6644-46db-b75e-0b78cff94b5e"
   },
   "outputs": [
    {
     "data": {
      "text/html": [
       "<div>\n",
       "<style scoped>\n",
       "    .dataframe tbody tr th:only-of-type {\n",
       "        vertical-align: middle;\n",
       "    }\n",
       "\n",
       "    .dataframe tbody tr th {\n",
       "        vertical-align: top;\n",
       "    }\n",
       "\n",
       "    .dataframe thead th {\n",
       "        text-align: right;\n",
       "    }\n",
       "</style>\n",
       "<table border=\"1\" class=\"dataframe\">\n",
       "  <thead>\n",
       "    <tr style=\"text-align: right;\">\n",
       "      <th></th>\n",
       "      <th>Income</th>\n",
       "    </tr>\n",
       "  </thead>\n",
       "  <tbody>\n",
       "    <tr>\n",
       "      <th>0</th>\n",
       "      <td>58138.0</td>\n",
       "    </tr>\n",
       "    <tr>\n",
       "      <th>1</th>\n",
       "      <td>46344.0</td>\n",
       "    </tr>\n",
       "    <tr>\n",
       "      <th>2</th>\n",
       "      <td>71613.0</td>\n",
       "    </tr>\n",
       "    <tr>\n",
       "      <th>3</th>\n",
       "      <td>26646.0</td>\n",
       "    </tr>\n",
       "    <tr>\n",
       "      <th>4</th>\n",
       "      <td>58293.0</td>\n",
       "    </tr>\n",
       "  </tbody>\n",
       "</table>\n",
       "</div>"
      ],
      "text/plain": [
       "    Income\n",
       "0  58138.0\n",
       "1  46344.0\n",
       "2  71613.0\n",
       "3  26646.0\n",
       "4  58293.0"
      ]
     },
     "execution_count": 13,
     "metadata": {},
     "output_type": "execute_result"
    }
   ],
   "source": [
    "data[['Income']].head()     "
   ]
  },
  {
   "cell_type": "code",
   "execution_count": 14,
   "metadata": {
    "id": "HWMN2GfXwYV_"
   },
   "outputs": [],
   "source": [
    "data['Income_range'] = pd.cut(data['Income'],bins=[10000,30000,50000,80000])    "
   ]
  },
  {
   "cell_type": "code",
   "execution_count": 15,
   "metadata": {
    "colab": {
     "base_uri": "https://localhost:8080/",
     "height": 206
    },
    "id": "C1-b0wQowYY0",
    "outputId": "e6627cbd-7f14-4275-b0fc-c167fbc431f6"
   },
   "outputs": [
    {
     "data": {
      "text/html": [
       "<div>\n",
       "<style scoped>\n",
       "    .dataframe tbody tr th:only-of-type {\n",
       "        vertical-align: middle;\n",
       "    }\n",
       "\n",
       "    .dataframe tbody tr th {\n",
       "        vertical-align: top;\n",
       "    }\n",
       "\n",
       "    .dataframe thead th {\n",
       "        text-align: right;\n",
       "    }\n",
       "</style>\n",
       "<table border=\"1\" class=\"dataframe\">\n",
       "  <thead>\n",
       "    <tr style=\"text-align: right;\">\n",
       "      <th></th>\n",
       "      <th>Income</th>\n",
       "      <th>Income_range</th>\n",
       "    </tr>\n",
       "  </thead>\n",
       "  <tbody>\n",
       "    <tr>\n",
       "      <th>0</th>\n",
       "      <td>58138.0</td>\n",
       "      <td>(50000, 80000]</td>\n",
       "    </tr>\n",
       "    <tr>\n",
       "      <th>1</th>\n",
       "      <td>46344.0</td>\n",
       "      <td>(30000, 50000]</td>\n",
       "    </tr>\n",
       "    <tr>\n",
       "      <th>2</th>\n",
       "      <td>71613.0</td>\n",
       "      <td>(50000, 80000]</td>\n",
       "    </tr>\n",
       "    <tr>\n",
       "      <th>3</th>\n",
       "      <td>26646.0</td>\n",
       "      <td>(10000, 30000]</td>\n",
       "    </tr>\n",
       "    <tr>\n",
       "      <th>4</th>\n",
       "      <td>58293.0</td>\n",
       "      <td>(50000, 80000]</td>\n",
       "    </tr>\n",
       "  </tbody>\n",
       "</table>\n",
       "</div>"
      ],
      "text/plain": [
       "    Income    Income_range\n",
       "0  58138.0  (50000, 80000]\n",
       "1  46344.0  (30000, 50000]\n",
       "2  71613.0  (50000, 80000]\n",
       "3  26646.0  (10000, 30000]\n",
       "4  58293.0  (50000, 80000]"
      ]
     },
     "execution_count": 15,
     "metadata": {},
     "output_type": "execute_result"
    }
   ],
   "source": [
    "data[['Income','Income_range']][:5]"
   ]
  },
  {
   "cell_type": "code",
   "execution_count": 16,
   "metadata": {
    "colab": {
     "base_uri": "https://localhost:8080/"
    },
    "id": "q7fCT99SnM3_",
    "outputId": "236be6d1-90de-4ad2-a922-8c756456bfda"
   },
   "outputs": [
    {
     "name": "stderr",
     "output_type": "stream",
     "text": [
      "C:\\Users\\Sarin\\AppData\\Local\\Temp\\ipykernel_13700\\1062842994.py:1: FutureWarning: The default of observed=False is deprecated and will be changed to True in a future version of pandas. Pass observed=False to retain current behavior or observed=True to adopt the future default and silence this warning.\n",
      "  data.groupby('Income_range').size()\n"
     ]
    },
    {
     "data": {
      "text/plain": [
       "Income_range\n",
       "(10000, 30000]    341\n",
       "(30000, 50000]    689\n",
       "(50000, 80000]    938\n",
       "dtype: int64"
      ]
     },
     "execution_count": 16,
     "metadata": {},
     "output_type": "execute_result"
    }
   ],
   "source": [
    "data.groupby('Income_range').size()"
   ]
  },
  {
   "cell_type": "code",
   "execution_count": 17,
   "metadata": {
    "colab": {
     "base_uri": "https://localhost:8080/"
    },
    "id": "8UfoZFoOnM-p",
    "outputId": "7328036c-fad5-4171-aa15-59df48de6e6d"
   },
   "outputs": [
    {
     "data": {
      "text/plain": [
       "2205"
      ]
     },
     "execution_count": 17,
     "metadata": {},
     "output_type": "execute_result"
    }
   ],
   "source": [
    "len(data)"
   ]
  },
  {
   "cell_type": "code",
   "execution_count": 18,
   "metadata": {
    "colab": {
     "base_uri": "https://localhost:8080/"
    },
    "id": "PSvBGconnNBM",
    "outputId": "424f91d3-843d-4aff-ae80-cb35fabd8b1c"
   },
   "outputs": [
    {
     "name": "stderr",
     "output_type": "stream",
     "text": [
      "C:\\Users\\Sarin\\AppData\\Local\\Temp\\ipykernel_13700\\1062842994.py:1: FutureWarning: The default of observed=False is deprecated and will be changed to True in a future version of pandas. Pass observed=False to retain current behavior or observed=True to adopt the future default and silence this warning.\n",
      "  data.groupby('Income_range').size()\n"
     ]
    },
    {
     "data": {
      "text/plain": [
       "Income_range\n",
       "(10000, 30000]    341\n",
       "(30000, 50000]    689\n",
       "(50000, 80000]    938\n",
       "dtype: int64"
      ]
     },
     "execution_count": 18,
     "metadata": {},
     "output_type": "execute_result"
    }
   ],
   "source": [
    "data.groupby('Income_range').size()"
   ]
  },
  {
   "cell_type": "code",
   "execution_count": 19,
   "metadata": {
    "colab": {
     "base_uri": "https://localhost:8080/"
    },
    "id": "-cF0gEA1nNML",
    "outputId": "fca8b3fb-0a94-47d2-87ad-b74faf614dc0"
   },
   "outputs": [
    {
     "name": "stderr",
     "output_type": "stream",
     "text": [
      "C:\\Users\\Sarin\\AppData\\Local\\Temp\\ipykernel_13700\\4248994652.py:1: FutureWarning: The default of observed=False is deprecated and will be changed to True in a future version of pandas. Pass observed=False to retain current behavior or observed=True to adopt the future default and silence this warning.\n",
      "  sum(data.groupby('Income_range').size().values)\n"
     ]
    },
    {
     "data": {
      "text/plain": [
       "1968"
      ]
     },
     "execution_count": 19,
     "metadata": {},
     "output_type": "execute_result"
    }
   ],
   "source": [
    "sum(data.groupby('Income_range').size().values)"
   ]
  },
  {
   "cell_type": "code",
   "execution_count": 20,
   "metadata": {
    "id": "7DapWyOCnNPW"
   },
   "outputs": [],
   "source": [
    "import seaborn as sns"
   ]
  },
  {
   "cell_type": "code",
   "execution_count": 21,
   "metadata": {
    "id": "-F9p1-nTnNR2"
   },
   "outputs": [
    {
     "name": "stderr",
     "output_type": "stream",
     "text": [
      "C:\\Users\\Sarin\\AppData\\Local\\Temp\\ipykernel_13700\\3767904243.py:1: FutureWarning: The default of observed=False is deprecated and will be changed to True in a future version of pandas. Pass observed=False to retain current behavior or observed=True to adopt the future default and silence this warning.\n",
      "  income_info = data.groupby('Income_range').size()\n"
     ]
    }
   ],
   "source": [
    "income_info = data.groupby('Income_range').size()"
   ]
  },
  {
   "cell_type": "code",
   "execution_count": 22,
   "metadata": {
    "colab": {
     "base_uri": "https://localhost:8080/"
    },
    "id": "IM4S0d1n3to1",
    "outputId": "05cccee3-b69e-48ee-d74f-436a1c81de29"
   },
   "outputs": [
    {
     "data": {
      "text/plain": [
       "Income_range\n",
       "(10000, 30000]    341\n",
       "(30000, 50000]    689\n",
       "(50000, 80000]    938\n",
       "dtype: int64"
      ]
     },
     "execution_count": 22,
     "metadata": {},
     "output_type": "execute_result"
    }
   ],
   "source": [
    "income_info"
   ]
  },
  {
   "cell_type": "code",
   "execution_count": 23,
   "metadata": {
    "colab": {
     "base_uri": "https://localhost:8080/"
    },
    "id": "70tmudYH3trR",
    "outputId": "be725b7d-a4f2-43fc-f3ab-af6829ee2039"
   },
   "outputs": [
    {
     "data": {
      "text/plain": [
       "CategoricalIndex([(10000, 30000], (30000, 50000], (50000, 80000]], categories=[(10000, 30000], (30000, 50000], (50000, 80000]], ordered=True, dtype='category', name='Income_range')"
      ]
     },
     "execution_count": 23,
     "metadata": {},
     "output_type": "execute_result"
    }
   ],
   "source": [
    "income_info.index"
   ]
  },
  {
   "cell_type": "code",
   "execution_count": 24,
   "metadata": {
    "colab": {
     "base_uri": "https://localhost:8080/"
    },
    "id": "w3oQsHpB3ttr",
    "outputId": "2cee7a6a-eb99-43c9-81bd-978bf5c84a05"
   },
   "outputs": [
    {
     "data": {
      "text/plain": [
       "RangeIndex(start=0, stop=2205, step=1)"
      ]
     },
     "execution_count": 24,
     "metadata": {},
     "output_type": "execute_result"
    }
   ],
   "source": [
    "data.index"
   ]
  },
  {
   "cell_type": "code",
   "execution_count": 25,
   "metadata": {
    "colab": {
     "base_uri": "https://localhost:8080/"
    },
    "id": "7iL5Hfjg3twN",
    "outputId": "74727d90-7932-4d6b-9081-c34340830c3b"
   },
   "outputs": [
    {
     "data": {
      "text/plain": [
       "RangeIndex(start=0, stop=2205, step=1)"
      ]
     },
     "execution_count": 25,
     "metadata": {},
     "output_type": "execute_result"
    }
   ],
   "source": [
    "data['Income'].index"
   ]
  },
  {
   "cell_type": "code",
   "execution_count": 26,
   "metadata": {
    "colab": {
     "base_uri": "https://localhost:8080/"
    },
    "id": "l_XqGtZ53tyv",
    "outputId": "8af1e040-174f-47fc-b259-e5d98c79ed6f"
   },
   "outputs": [
    {
     "data": {
      "text/plain": [
       "CategoricalIndex([(10000, 30000], (30000, 50000], (50000, 80000]], categories=[(10000, 30000], (30000, 50000], (50000, 80000]], ordered=True, dtype='category', name='Income_range')"
      ]
     },
     "execution_count": 26,
     "metadata": {},
     "output_type": "execute_result"
    }
   ],
   "source": [
    "income_info.index"
   ]
  },
  {
   "cell_type": "code",
   "execution_count": 27,
   "metadata": {
    "colab": {
     "base_uri": "https://localhost:8080/"
    },
    "id": "iHEPNGsH3t08",
    "outputId": "e5ffdf7f-109c-4c40-e385-14ecd3f663ee"
   },
   "outputs": [
    {
     "data": {
      "text/plain": [
       "array([341, 689, 938], dtype=int64)"
      ]
     },
     "execution_count": 27,
     "metadata": {},
     "output_type": "execute_result"
    }
   ],
   "source": [
    "income_info.values"
   ]
  },
  {
   "cell_type": "code",
   "execution_count": 28,
   "metadata": {
    "colab": {
     "base_uri": "https://localhost:8080/",
     "height": 553
    },
    "id": "U76O2JIV3t3h",
    "outputId": "ff55186d-4a39-4715-8215-122fdd87d70c"
   },
   "outputs": [
    {
     "name": "stderr",
     "output_type": "stream",
     "text": [
      "C:\\Users\\Sarin\\anaconda3\\Lib\\site-packages\\seaborn\\categorical.py:641: FutureWarning: The default of observed=False is deprecated and will be changed to True in a future version of pandas. Pass observed=False to retain current behavior or observed=True to adopt the future default and silence this warning.\n",
      "  grouped_vals = vals.groupby(grouper)\n"
     ]
    },
    {
     "data": {
      "text/plain": [
       "<Axes: xlabel='Income_range'>"
      ]
     },
     "execution_count": 28,
     "metadata": {},
     "output_type": "execute_result"
    },
    {
     "data": {
      "image/png": "[encoded data removed]",
      "text/plain": [
       "<Figure size 640x480 with 1 Axes>"
      ]
     },
     "metadata": {},
     "output_type": "display_data"
    }
   ],
   "source": [
    "sns.barplot(x = income_info.index, y = income_info.values,palette=\"Set2\")"
   ]
  },
  {
   "cell_type": "code",
   "execution_count": 29,
   "metadata": {
    "colab": {
     "base_uri": "https://localhost:8080/",
     "height": 553
    },
    "id": "hpc0hvQd3t6D",
    "outputId": "20987059-f955-42c8-dbcd-54cef16067ce"
   },
   "outputs": [
    {
     "name": "stderr",
     "output_type": "stream",
     "text": [
      "C:\\Users\\Sarin\\AppData\\Local\\Temp\\ipykernel_13700\\1651836575.py:2: FutureWarning: The default of observed=False is deprecated and will be changed to True in a future version of pandas. Pass observed=False to retain current behavior or observed=True to adopt the future default and silence this warning.\n",
      "  income_info= data.groupby(\"Income_ranges\").size()\n",
      "C:\\Users\\Sarin\\anaconda3\\Lib\\site-packages\\seaborn\\categorical.py:641: FutureWarning: The default of observed=False is deprecated and will be changed to True in a future version of pandas. Pass observed=False to retain current behavior or observed=True to adopt the future default and silence this warning.\n",
      "  grouped_vals = vals.groupby(grouper)\n"
     ]
    },
    {
     "data": {
      "text/plain": [
       "<Axes: xlabel='Income_ranges'>"
      ]
     },
     "execution_count": 29,
     "metadata": {},
     "output_type": "execute_result"
    },
    {
     "data": {
      "image/png": "[encoded data removed]",
      "text/plain": [
       "<Figure size 640x480 with 1 Axes>"
      ]
     },
     "metadata": {},
     "output_type": "display_data"
    }
   ],
   "source": [
    "data['Income_ranges'] =  pd.cut(data['Income'], bins = [20000,40000,60000,80000,100000])\n",
    "income_info= data.groupby(\"Income_ranges\").size()\n",
    "sns.barplot(x = income_info.index,y = income_info.values,palette ='Set1')"
   ]
  },
  {
   "cell_type": "code",
   "execution_count": 30,
   "metadata": {
    "colab": {
     "base_uri": "https://localhost:8080/",
     "height": 553
    },
    "id": "kcVfjYGs-eBV",
    "outputId": "088943a4-024c-402c-db02-0476b921720d"
   },
   "outputs": [
    {
     "name": "stderr",
     "output_type": "stream",
     "text": [
      "C:\\Users\\Sarin\\AppData\\Local\\Temp\\ipykernel_13700\\2787503335.py:2: FutureWarning: The default of observed=False is deprecated and will be changed to True in a future version of pandas. Pass observed=False to retain current behavior or observed=True to adopt the future default and silence this warning.\n",
      "  income_info = data.groupby('Income_ranges').size()\n",
      "C:\\Users\\Sarin\\anaconda3\\Lib\\site-packages\\seaborn\\categorical.py:641: FutureWarning: The default of observed=False is deprecated and will be changed to True in a future version of pandas. Pass observed=False to retain current behavior or observed=True to adopt the future default and silence this warning.\n",
      "  grouped_vals = vals.groupby(grouper)\n"
     ]
    },
    {
     "data": {
      "text/plain": [
       "<Axes: xlabel='Income_ranges'>"
      ]
     },
     "execution_count": 30,
     "metadata": {},
     "output_type": "execute_result"
    },
    {
     "data": {
      "image/png": "[encoded data removed]",
      "text/plain": [
       "<Figure size 640x480 with 1 Axes>"
      ]
     },
     "metadata": {},
     "output_type": "display_data"
    }
   ],
   "source": [
    "data['Income_ranges']= pd.cut(data['Income'], bins =[min(data['Income']),20000,40000,60000,80000,100000,max(data['Income'])])\n",
    "income_info = data.groupby('Income_ranges').size()\n",
    "sns.barplot(x= income_info.index, y = income_info.values, palette = 'pastel')"
   ]
  },
  {
   "cell_type": "code",
   "execution_count": 31,
   "metadata": {
    "id": "9Wpwgqozj4Hf"
   },
   "outputs": [],
   "source": [
    "import matplotlib.pyplot as plt"
   ]
  },
  {
   "cell_type": "code",
   "execution_count": 32,
   "metadata": {
    "colab": {
     "base_uri": "https://localhost:8080/",
     "height": 795
    },
    "id": "-5XAdLYA-eEf",
    "outputId": "06765feb-3ad3-40df-87ce-5ce4a6dc7821"
   },
   "outputs": [
    {
     "name": "stderr",
     "output_type": "stream",
     "text": [
      "C:\\Users\\Sarin\\AppData\\Local\\Temp\\ipykernel_13700\\1532217949.py:2: FutureWarning: The default of observed=False is deprecated and will be changed to True in a future version of pandas. Pass observed=False to retain current behavior or observed=True to adopt the future default and silence this warning.\n",
      "  income_info = data.groupby('Income_ranges').size()\n",
      "C:\\Users\\Sarin\\anaconda3\\Lib\\site-packages\\seaborn\\categorical.py:641: FutureWarning: The default of observed=False is deprecated and will be changed to True in a future version of pandas. Pass observed=False to retain current behavior or observed=True to adopt the future default and silence this warning.\n",
      "  grouped_vals = vals.groupby(grouper)\n"
     ]
    },
    {
     "data": {
      "text/plain": [
       "(array([  0., 100., 200., 300., 400., 500., 600., 700.]),\n",
       " [Text(0, 0.0, '0'),\n",
       "  Text(0, 100.0, '100'),\n",
       "  Text(0, 200.0, '200'),\n",
       "  Text(0, 300.0, '300'),\n",
       "  Text(0, 400.0, '400'),\n",
       "  Text(0, 500.0, '500'),\n",
       "  Text(0, 600.0, '600'),\n",
       "  Text(0, 700.0, '700')])"
      ]
     },
     "execution_count": 32,
     "metadata": {},
     "output_type": "execute_result"
    },
    {
     "data": {
      "image/png": "[encoded data removed]",
      "text/plain": [
       "<Figure size 640x480 with 1 Axes>"
      ]
     },
     "metadata": {},
     "output_type": "display_data"
    }
   ],
   "source": [
    "data['Income_ranges']= pd.cut(data['Income'], bins =[min(data['Income']),20000,40000,60000,80000,100000,max(data['Income'])])\n",
    "income_info = data.groupby('Income_ranges').size()\n",
    "sns.barplot(x= income_info.index, y = income_info.values, palette = 'pastel')\n",
    "plt.xticks(rotation = 45)\n",
    "plt.yticks(rotation =45)"
   ]
  },
  {
   "cell_type": "code",
   "execution_count": 33,
   "metadata": {
    "colab": {
     "base_uri": "https://localhost:8080/"
    },
    "id": "lPq2PXCjj3Tn",
    "outputId": "26449093-352c-4571-9673-360d60352b66"
   },
   "outputs": [
    {
     "data": {
      "text/plain": [
       "Kidhome\n",
       "0          1276\n",
       "1           883\n",
       "2            46\n",
       "Name: count, dtype: int64"
      ]
     },
     "execution_count": 33,
     "metadata": {},
     "output_type": "execute_result"
    }
   ],
   "source": [
    "data[['Kidhome']].value_counts()"
   ]
  },
  {
   "cell_type": "code",
   "execution_count": 34,
   "metadata": {
    "colab": {
     "base_uri": "https://localhost:8080/",
     "height": 553
    },
    "id": "PsU-iZPE-eGz",
    "outputId": "0454a958-17ec-4488-9cf5-bb86c188fd07"
   },
   "outputs": [
    {
     "data": {
      "text/plain": [
       "<Axes: xlabel='Kidhome', ylabel='count'>"
      ]
     },
     "execution_count": 34,
     "metadata": {},
     "output_type": "execute_result"
    },
    {
     "data": {
      "image/png": "[encoded data removed]",
      "text/plain": [
       "<Figure size 640x480 with 1 Axes>"
      ]
     },
     "metadata": {},
     "output_type": "display_data"
    }
   ],
   "source": [
    "sns.countplot(data=data, x = 'Kidhome', palette=\"Set1\")"
   ]
  },
  {
   "cell_type": "code",
   "execution_count": 35,
   "metadata": {
    "colab": {
     "base_uri": "https://localhost:8080/"
    },
    "id": "FqGrOQOm-eJa",
    "outputId": "9644eed2-e4ea-49f2-fc62-391e890fc608"
   },
   "outputs": [
    {
     "data": {
      "text/plain": [
       "Kidhome\n",
       "0    1276\n",
       "1     883\n",
       "2      46\n",
       "dtype: int64"
      ]
     },
     "execution_count": 35,
     "metadata": {},
     "output_type": "execute_result"
    }
   ],
   "source": [
    "data.groupby(\"Kidhome\").size()\n"
   ]
  },
  {
   "cell_type": "code",
   "execution_count": 36,
   "metadata": {
    "colab": {
     "base_uri": "https://localhost:8080/",
     "height": 553
    },
    "id": "FOLkOf3F-eL8",
    "outputId": "823ad351-41b5-497e-9775-e852b019b7c5"
   },
   "outputs": [
    {
     "data": {
      "text/plain": [
       "<Axes: xlabel='Teenhome', ylabel='count'>"
      ]
     },
     "execution_count": 36,
     "metadata": {},
     "output_type": "execute_result"
    },
    {
     "data": {
      "image/png": "[encoded data removed]",
      "text/plain": [
       "<Figure size 640x480 with 1 Axes>"
      ]
     },
     "metadata": {},
     "output_type": "display_data"
    }
   ],
   "source": [
    "data[['Teenhome']].value_counts()\n",
    "sns.countplot(data=data, x = 'Teenhome', palette=\"Set2\")"
   ]
  },
  {
   "cell_type": "code",
   "execution_count": 37,
   "metadata": {
    "colab": {
     "base_uri": "https://localhost:8080/",
     "height": 175
    },
    "id": "r-4KZlM1-eOm",
    "outputId": "caf1af20-5a88-4645-e405-c6d58b0ed17c"
   },
   "outputs": [
    {
     "data": {
      "text/html": [
       "<div>\n",
       "<style scoped>\n",
       "    .dataframe tbody tr th:only-of-type {\n",
       "        vertical-align: middle;\n",
       "    }\n",
       "\n",
       "    .dataframe tbody tr th {\n",
       "        vertical-align: top;\n",
       "    }\n",
       "\n",
       "    .dataframe thead th {\n",
       "        text-align: right;\n",
       "    }\n",
       "</style>\n",
       "<table border=\"1\" class=\"dataframe\">\n",
       "  <thead>\n",
       "    <tr style=\"text-align: right;\">\n",
       "      <th></th>\n",
       "      <th>MntTotal</th>\n",
       "    </tr>\n",
       "    <tr>\n",
       "      <th>Kidhome</th>\n",
       "      <th></th>\n",
       "    </tr>\n",
       "  </thead>\n",
       "  <tbody>\n",
       "    <tr>\n",
       "      <th>0</th>\n",
       "      <td>841.264890</td>\n",
       "    </tr>\n",
       "    <tr>\n",
       "      <th>1</th>\n",
       "      <td>183.434881</td>\n",
       "    </tr>\n",
       "    <tr>\n",
       "      <th>2</th>\n",
       "      <td>118.891304</td>\n",
       "    </tr>\n",
       "  </tbody>\n",
       "</table>\n",
       "</div>"
      ],
      "text/plain": [
       "           MntTotal\n",
       "Kidhome            \n",
       "0        841.264890\n",
       "1        183.434881\n",
       "2        118.891304"
      ]
     },
     "execution_count": 37,
     "metadata": {},
     "output_type": "execute_result"
    }
   ],
   "source": [
    "data.pivot_table(index=\"Kidhome\",values=\"MntTotal\", aggfunc='mean')\n",
    "\n",
    "\n",
    "#'sum': Sum of values.\n",
    "#'min': Minimum value.\n",
    "#'max': Maximum value.\n",
    "#'count': Count of non-null values.\n",
    "#'median': Median value.\n",
    "#std': Standard deviation.\n",
    "#'var': Variance.\n",
    "#'first': First non-null value.\n",
    "#'last': Last non-null value."
   ]
  },
  {
   "cell_type": "code",
   "execution_count": 38,
   "metadata": {
    "colab": {
     "base_uri": "https://localhost:8080/",
     "height": 553
    },
    "id": "YRh26eAl-eRa",
    "outputId": "3511956e-2943-43d2-adfa-41c1c706a9a1"
   },
   "outputs": [
    {
     "data": {
      "text/plain": [
       "<Axes: xlabel='Kidhome', ylabel='MntTotal'>"
      ]
     },
     "execution_count": 38,
     "metadata": {},
     "output_type": "execute_result"
    },
    {
     "data": {
      "image/png": "[encoded data removed]",
      "text/plain": [
       "<Figure size 640x480 with 1 Axes>"
      ]
     },
     "metadata": {},
     "output_type": "display_data"
    }
   ],
   "source": [
    "pivot_table=data.pivot_table(index=\"Kidhome\",values=\"MntTotal\", aggfunc='mean')\n",
    "sns.barplot(x = pivot_table.index,y=pivot_table.MntTotal, palette=\"Set2\")"
   ]
  },
  {
   "cell_type": "code",
   "execution_count": 39,
   "metadata": {
    "colab": {
     "base_uri": "https://localhost:8080/",
     "height": 553
    },
    "id": "ShuMvp0j-eUP",
    "outputId": "b152a0c3-e9e9-4bf2-a815-1f55dd8ffe5c"
   },
   "outputs": [
    {
     "data": {
      "text/plain": [
       "<Axes: xlabel='Teenhome', ylabel='MntTotal'>"
      ]
     },
     "execution_count": 39,
     "metadata": {},
     "output_type": "execute_result"
    },
    {
     "data": {
      "image/png": "[encoded data removed]",
      "text/plain": [
       "<Figure size 640x480 with 1 Axes>"
      ]
     },
     "metadata": {},
     "output_type": "display_data"
    }
   ],
   "source": [
    "pivot_table=data.pivot_table(index=\"Teenhome\",values=\"MntTotal\", aggfunc='mean')\n",
    "sns.barplot(x = pivot_table.index,y=pivot_table.MntTotal, palette=\"Set2\")"
   ]
  },
  {
   "cell_type": "code",
   "execution_count": 40,
   "metadata": {
    "colab": {
     "base_uri": "https://localhost:8080/"
    },
    "id": "hvtB_sZ_kEk6",
    "outputId": "bdffb9cc-da7e-48cc-a7cf-021ac8d90077"
   },
   "outputs": [
    {
     "data": {
      "text/plain": [
       "Index(['Income', 'Kidhome', 'Teenhome', 'Recency', 'MntWines', 'MntFruits',\n",
       "       'MntMeatProducts', 'MntFishProducts', 'MntSweetProducts',\n",
       "       'MntGoldProds', 'NumDealsPurchases', 'NumWebPurchases',\n",
       "       'NumCatalogPurchases', 'NumStorePurchases', 'NumWebVisitsMonth',\n",
       "       'AcceptedCmp3', 'AcceptedCmp4', 'AcceptedCmp5', 'AcceptedCmp1',\n",
       "       'AcceptedCmp2', 'Complain', 'Z_CostContact', 'Z_Revenue', 'Response',\n",
       "       'Age', 'Customer_Days', 'marital_Divorced', 'marital_Married',\n",
       "       'marital_Single', 'marital_Together', 'marital_Widow',\n",
       "       'education_2n Cycle', 'education_Basic', 'education_Graduation',\n",
       "       'education_Master', 'education_PhD', 'MntTotal', 'MntRegularProds',\n",
       "       'AcceptedCmpOverall', 'Income_range', 'Income_ranges'],\n",
       "      dtype='object')"
      ]
     },
     "execution_count": 40,
     "metadata": {},
     "output_type": "execute_result"
    }
   ],
   "source": [
    "data.columns"
   ]
  },
  {
   "cell_type": "code",
   "execution_count": 41,
   "metadata": {
    "id": "m2k51lvQ3t8z"
   },
   "outputs": [],
   "source": [
    "camp_data = data[[ 'AcceptedCmp1', 'AcceptedCmp2', 'AcceptedCmp3', 'AcceptedCmp4','AcceptedCmp5']]"
   ]
  },
  {
   "cell_type": "code",
   "execution_count": 42,
   "metadata": {
    "colab": {
     "base_uri": "https://localhost:8080/",
     "height": 423
    },
    "id": "Pvsf0cFt3t_h",
    "outputId": "447e4d14-ded3-448a-f882-4508556b416e"
   },
   "outputs": [
    {
     "data": {
      "text/html": [
       "<div>\n",
       "<style scoped>\n",
       "    .dataframe tbody tr th:only-of-type {\n",
       "        vertical-align: middle;\n",
       "    }\n",
       "\n",
       "    .dataframe tbody tr th {\n",
       "        vertical-align: top;\n",
       "    }\n",
       "\n",
       "    .dataframe thead th {\n",
       "        text-align: right;\n",
       "    }\n",
       "</style>\n",
       "<table border=\"1\" class=\"dataframe\">\n",
       "  <thead>\n",
       "    <tr style=\"text-align: right;\">\n",
       "      <th></th>\n",
       "      <th>AcceptedCmp1</th>\n",
       "      <th>AcceptedCmp2</th>\n",
       "      <th>AcceptedCmp3</th>\n",
       "      <th>AcceptedCmp4</th>\n",
       "      <th>AcceptedCmp5</th>\n",
       "    </tr>\n",
       "  </thead>\n",
       "  <tbody>\n",
       "    <tr>\n",
       "      <th>0</th>\n",
       "      <td>0</td>\n",
       "      <td>0</td>\n",
       "      <td>0</td>\n",
       "      <td>0</td>\n",
       "      <td>0</td>\n",
       "    </tr>\n",
       "    <tr>\n",
       "      <th>1</th>\n",
       "      <td>0</td>\n",
       "      <td>0</td>\n",
       "      <td>0</td>\n",
       "      <td>0</td>\n",
       "      <td>0</td>\n",
       "    </tr>\n",
       "    <tr>\n",
       "      <th>2</th>\n",
       "      <td>0</td>\n",
       "      <td>0</td>\n",
       "      <td>0</td>\n",
       "      <td>0</td>\n",
       "      <td>0</td>\n",
       "    </tr>\n",
       "    <tr>\n",
       "      <th>3</th>\n",
       "      <td>0</td>\n",
       "      <td>0</td>\n",
       "      <td>0</td>\n",
       "      <td>0</td>\n",
       "      <td>0</td>\n",
       "    </tr>\n",
       "    <tr>\n",
       "      <th>4</th>\n",
       "      <td>0</td>\n",
       "      <td>0</td>\n",
       "      <td>0</td>\n",
       "      <td>0</td>\n",
       "      <td>0</td>\n",
       "    </tr>\n",
       "    <tr>\n",
       "      <th>...</th>\n",
       "      <td>...</td>\n",
       "      <td>...</td>\n",
       "      <td>...</td>\n",
       "      <td>...</td>\n",
       "      <td>...</td>\n",
       "    </tr>\n",
       "    <tr>\n",
       "      <th>2200</th>\n",
       "      <td>0</td>\n",
       "      <td>0</td>\n",
       "      <td>0</td>\n",
       "      <td>0</td>\n",
       "      <td>0</td>\n",
       "    </tr>\n",
       "    <tr>\n",
       "      <th>2201</th>\n",
       "      <td>1</td>\n",
       "      <td>0</td>\n",
       "      <td>0</td>\n",
       "      <td>0</td>\n",
       "      <td>0</td>\n",
       "    </tr>\n",
       "    <tr>\n",
       "      <th>2202</th>\n",
       "      <td>0</td>\n",
       "      <td>0</td>\n",
       "      <td>0</td>\n",
       "      <td>1</td>\n",
       "      <td>0</td>\n",
       "    </tr>\n",
       "    <tr>\n",
       "      <th>2203</th>\n",
       "      <td>0</td>\n",
       "      <td>0</td>\n",
       "      <td>0</td>\n",
       "      <td>0</td>\n",
       "      <td>0</td>\n",
       "    </tr>\n",
       "    <tr>\n",
       "      <th>2204</th>\n",
       "      <td>0</td>\n",
       "      <td>0</td>\n",
       "      <td>0</td>\n",
       "      <td>0</td>\n",
       "      <td>0</td>\n",
       "    </tr>\n",
       "  </tbody>\n",
       "</table>\n",
       "<p>2205 rows × 5 columns</p>\n",
       "</div>"
      ],
      "text/plain": [
       "      AcceptedCmp1  AcceptedCmp2  AcceptedCmp3  AcceptedCmp4  AcceptedCmp5\n",
       "0                0             0             0             0             0\n",
       "1                0             0             0             0             0\n",
       "2                0             0             0             0             0\n",
       "3                0             0             0             0             0\n",
       "4                0             0             0             0             0\n",
       "...            ...           ...           ...           ...           ...\n",
       "2200             0             0             0             0             0\n",
       "2201             1             0             0             0             0\n",
       "2202             0             0             0             1             0\n",
       "2203             0             0             0             0             0\n",
       "2204             0             0             0             0             0\n",
       "\n",
       "[2205 rows x 5 columns]"
      ]
     },
     "execution_count": 42,
     "metadata": {},
     "output_type": "execute_result"
    }
   ],
   "source": [
    "camp_data"
   ]
  },
  {
   "cell_type": "code",
   "execution_count": 43,
   "metadata": {
    "colab": {
     "base_uri": "https://localhost:8080/"
    },
    "id": "TEckbWtx3uB_",
    "outputId": "747d8762-c0e1-488d-9706-09bdd56227ca"
   },
   "outputs": [
    {
     "data": {
      "text/plain": [
       "AcceptedCmp1    142\n",
       "AcceptedCmp2     30\n",
       "AcceptedCmp3    163\n",
       "AcceptedCmp4    164\n",
       "AcceptedCmp5    161\n",
       "dtype: int64"
      ]
     },
     "execution_count": 43,
     "metadata": {},
     "output_type": "execute_result"
    }
   ],
   "source": [
    "camp_data.sum()"
   ]
  },
  {
   "cell_type": "code",
   "execution_count": 44,
   "metadata": {
    "id": "Bq7-gPkZ3uEV"
   },
   "outputs": [],
   "source": [
    "table =camp_data.sum()"
   ]
  },
  {
   "cell_type": "code",
   "execution_count": 45,
   "metadata": {
    "colab": {
     "base_uri": "https://localhost:8080/",
     "height": 711
    },
    "id": "hoSJxrt3k2G7",
    "outputId": "421dc9a7-d0c9-4a8b-e86c-0e45d6e2bd70"
   },
   "outputs": [
    {
     "data": {
      "text/plain": [
       "(array([0, 1, 2, 3, 4]),\n",
       " [Text(0, 0, 'AcceptedCmp1'),\n",
       "  Text(1, 0, 'AcceptedCmp2'),\n",
       "  Text(2, 0, 'AcceptedCmp3'),\n",
       "  Text(3, 0, 'AcceptedCmp4'),\n",
       "  Text(4, 0, 'AcceptedCmp5')])"
      ]
     },
     "execution_count": 45,
     "metadata": {},
     "output_type": "execute_result"
    },
    {
     "data": {
      "image/png": "[encoded data removed]",
      "text/plain": [
       "<Figure size 640x480 with 1 Axes>"
      ]
     },
     "metadata": {},
     "output_type": "display_data"
    }
   ],
   "source": [
    "sns.barplot(x = table.index, y = table.values, palette=\"pastel\")\n",
    "plt.xticks(rotation = 45)"
   ]
  },
  {
   "cell_type": "code",
   "execution_count": 46,
   "metadata": {
    "colab": {
     "base_uri": "https://localhost:8080/",
     "height": 447
    },
    "id": "MF91G1iuk2Jx",
    "outputId": "08ffbfd1-33e7-40d2-c444-0fbb0819cb30"
   },
   "outputs": [
    {
     "data": {
      "text/plain": [
       "<matplotlib.collections.PathCollection at 0x1e30a451e50>"
      ]
     },
     "execution_count": 46,
     "metadata": {},
     "output_type": "execute_result"
    },
    {
     "data": {
      "image/png": "[encoded data removed]",
      "text/plain": [
       "<Figure size 640x480 with 1 Axes>"
      ]
     },
     "metadata": {},
     "output_type": "display_data"
    }
   ],
   "source": [
    "plt.scatter(data['MntFruits'],data['MntWines'],color = 'b')       # no relation"
   ]
  },
  {
   "cell_type": "code",
   "execution_count": 47,
   "metadata": {
    "colab": {
     "base_uri": "https://localhost:8080/",
     "height": 447
    },
    "id": "q5PT0MsWk2M2",
    "outputId": "c468c3a4-b458-48cc-f07a-f3787b33c5d0"
   },
   "outputs": [
    {
     "data": {
      "text/plain": [
       "<matplotlib.collections.PathCollection at 0x1e30bb439d0>"
      ]
     },
     "execution_count": 47,
     "metadata": {},
     "output_type": "execute_result"
    },
    {
     "data": {
      "image/png": "[encoded data removed]",
      "text/plain": [
       "<Figure size 640x480 with 1 Axes>"
      ]
     },
     "metadata": {},
     "output_type": "display_data"
    }
   ],
   "source": [
    "plt.scatter(data['MntTotal'],data['MntWines'],color = 'r')       #relationship is present"
   ]
  },
  {
   "cell_type": "code",
   "execution_count": 59,
   "metadata": {
    "colab": {
     "base_uri": "https://localhost:8080/"
    },
    "id": "OtASxt2Mk2Rw",
    "outputId": "18ea20b0-3373-4c70-aa78-6adcd3cdd1a2"
   },
   "outputs": [
    {
     "name": "stdout",
     "output_type": "stream",
     "text": [
      "Requirement already satisfied: sweetviz in c:\\users\\sarin\\anaconda3\\lib\\site-packages (2.3.1)\n",
      "Requirement already satisfied: pandas!=1.0.0,!=1.0.1,!=1.0.2,>=0.25.3 in c:\\users\\sarin\\anaconda3\\lib\\site-packages (from sweetviz) (2.1.4)\n",
      "Requirement already satisfied: numpy>=1.16.0 in c:\\users\\sarin\\anaconda3\\lib\\site-packages (from sweetviz) (1.24.3)\n",
      "Requirement already satisfied: matplotlib>=3.1.3 in c:\\users\\sarin\\anaconda3\\lib\\site-packages (from sweetviz) (3.7.2)\n",
      "Requirement already satisfied: tqdm>=4.43.0 in c:\\users\\sarin\\anaconda3\\lib\\site-packages (from sweetviz) (4.65.0)\n",
      "Requirement already satisfied: scipy>=1.3.2 in c:\\users\\sarin\\anaconda3\\lib\\site-packages (from sweetviz) (1.11.1)\n",
      "Requirement already satisfied: jinja2>=2.11.1 in c:\\users\\sarin\\anaconda3\\lib\\site-packages (from sweetviz) (3.1.2)\n",
      "Requirement already satisfied: importlib-resources>=1.2.0 in c:\\users\\sarin\\anaconda3\\lib\\site-packages (from sweetviz) (6.1.2)\n",
      "Requirement already satisfied: MarkupSafe>=2.0 in c:\\users\\sarin\\anaconda3\\lib\\site-packages (from jinja2>=2.11.1->sweetviz) (2.1.1)\n",
      "Requirement already satisfied: contourpy>=1.0.1 in c:\\users\\sarin\\anaconda3\\lib\\site-packages (from matplotlib>=3.1.3->sweetviz) (1.0.5)\n",
      "Requirement already satisfied: cycler>=0.10 in c:\\users\\sarin\\anaconda3\\lib\\site-packages (from matplotlib>=3.1.3->sweetviz) (0.11.0)\n",
      "Requirement already satisfied: fonttools>=4.22.0 in c:\\users\\sarin\\anaconda3\\lib\\site-packages (from matplotlib>=3.1.3->sweetviz) (4.25.0)\n",
      "Requirement already satisfied: kiwisolver>=1.0.1 in c:\\users\\sarin\\anaconda3\\lib\\site-packages (from matplotlib>=3.1.3->sweetviz) (1.4.4)\n",
      "Requirement already satisfied: packaging>=20.0 in c:\\users\\sarin\\anaconda3\\lib\\site-packages (from matplotlib>=3.1.3->sweetviz) (23.1)\n",
      "Requirement already satisfied: pillow>=6.2.0 in c:\\users\\sarin\\anaconda3\\lib\\site-packages (from matplotlib>=3.1.3->sweetviz) (9.4.0)\n",
      "Requirement already satisfied: pyparsing<3.1,>=2.3.1 in c:\\users\\sarin\\anaconda3\\lib\\site-packages (from matplotlib>=3.1.3->sweetviz) (3.0.9)\n",
      "Requirement already satisfied: python-dateutil>=2.7 in c:\\users\\sarin\\anaconda3\\lib\\site-packages (from matplotlib>=3.1.3->sweetviz) (2.8.2)\n",
      "Requirement already satisfied: pytz>=2020.1 in c:\\users\\sarin\\anaconda3\\lib\\site-packages (from pandas!=1.0.0,!=1.0.1,!=1.0.2,>=0.25.3->sweetviz) (2023.3.post1)\n",
      "Requirement already satisfied: tzdata>=2022.1 in c:\\users\\sarin\\anaconda3\\lib\\site-packages (from pandas!=1.0.0,!=1.0.1,!=1.0.2,>=0.25.3->sweetviz) (2023.3)\n",
      "Requirement already satisfied: colorama in c:\\users\\sarin\\anaconda3\\lib\\site-packages (from tqdm>=4.43.0->sweetviz) (0.4.6)\n",
      "Requirement already satisfied: six>=1.5 in c:\\users\\sarin\\anaconda3\\lib\\site-packages (from python-dateutil>=2.7->matplotlib>=3.1.3->sweetviz) (1.16.0)\n"
     ]
    }
   ],
   "source": [
    "!pip install sweetviz         #autoeda"
   ]
  },
  {
   "cell_type": "code",
   "execution_count": 60,
   "metadata": {
    "colab": {
     "base_uri": "https://localhost:8080/",
     "height": 49,
     "referenced_widgets": [
      "c8b37e3ec25c4c4f8ef23ce8d8b02871",
      "ab70eb4c34b24f7b819368ecbd5e5113",
      "24fa2704d5b043a68ce35ea011fa65d1",
      "e303376e01ee44fbaf9612c1b5be22de",
      "1d85dace03334607ba5c06058533eb1b",
      "564cf91d728745bbaecc02f88791ee71",
      "6e318b76de1346a581e4165d49abddf7",
      "74c57bc7af0d44f9bcde5353b87909c5",
      "4096fbbb6df14d1d8427f3f75b67628b",
      "d7df0b8fe2eb4241a0129c1b6b90ab1a",
      "9383ca5b3a4a477dbd2530b94b0edf29"
     ]
    },
    "id": "CaDZ5ydNk2Uf",
    "outputId": "37f01f56-724a-4ea3-aa67-54cbac5a3062"
   },
   "outputs": [
    {
     "data": {
      "application/vnd.jupyter.widget-view+json": {
       "model_id": "a6935366392a497ab2492d2ecf132bcf",
       "version_major": 2,
       "version_minor": 0
      },
      "text/plain": [
       "                                             |          | [  0%]   00:00 -> (? left)"
      ]
     },
     "metadata": {},
     "output_type": "display_data"
    }
   ],
   "source": [
    "import sweetviz as sw\n",
    "analyse_report = sw.analyze(data)\n"
   ]
  },
  {
   "cell_type": "code",
   "execution_count": 63,
   "metadata": {
    "colab": {
     "base_uri": "https://localhost:8080/"
    },
    "id": "3NqeB4Yd3uHG",
    "outputId": "e5926969-5419-4517-a478-537e75167f7a"
   },
   "outputs": [
    {
     "name": "stdout",
     "output_type": "stream",
     "text": [
      "Report report.html was generated! NOTEBOOK/COLAB USERS: the web browser MAY not pop up, regardless, the report IS saved in your notebook/colab files.\n"
     ]
    }
   ],
   "source": [
    "analyse_report.show_html(\"report.html\",open_browser=True)"
   ]
  },
  {
   "cell_type": "code",
   "execution_count": 62,
   "metadata": {
    "colab": {
     "base_uri": "https://localhost:8080/"
    },
    "id": "ZMqWd1oQ3uJw",
    "outputId": "3dee7169-4013-43bd-cfc6-5d39b8465c76"
   },
   "outputs": [
    {
     "name": "stdout",
     "output_type": "stream",
     "text": [
      "Requirement already satisfied: autoviz in c:\\users\\sarin\\anaconda3\\lib\\site-packages (0.1.806)\n",
      "Requirement already satisfied: bokeh~=2.4.2 in c:\\users\\sarin\\anaconda3\\lib\\site-packages (from autoviz) (2.4.3)\n",
      "Requirement already satisfied: emoji in c:\\users\\sarin\\anaconda3\\lib\\site-packages (from autoviz) (2.10.1)\n",
      "Requirement already satisfied: fsspec>=0.8.3 in c:\\users\\sarin\\anaconda3\\lib\\site-packages (from autoviz) (2023.4.0)\n",
      "Requirement already satisfied: holoviews~=1.14.9 in c:\\users\\sarin\\anaconda3\\lib\\site-packages (from autoviz) (1.14.9)\n",
      "Requirement already satisfied: hvplot~=0.7.3 in c:\\users\\sarin\\anaconda3\\lib\\site-packages (from autoviz) (0.7.3)\n",
      "Requirement already satisfied: matplotlib<=3.7.4 in c:\\users\\sarin\\anaconda3\\lib\\site-packages (from autoviz) (3.7.2)\n",
      "Requirement already satisfied: nltk in c:\\users\\sarin\\anaconda3\\lib\\site-packages (from autoviz) (3.8.1)\n",
      "Requirement already satisfied: numpy<1.25.0 in c:\\users\\sarin\\anaconda3\\lib\\site-packages (from autoviz) (1.24.3)\n",
      "Requirement already satisfied: pandas in c:\\users\\sarin\\anaconda3\\lib\\site-packages (from autoviz) (2.1.4)\n",
      "Requirement already satisfied: pandas-dq>=1.29 in c:\\users\\sarin\\anaconda3\\lib\\site-packages (from autoviz) (1.29)\n",
      "Requirement already satisfied: panel>=0.12.6 in c:\\users\\sarin\\anaconda3\\lib\\site-packages (from autoviz) (0.14.4)\n",
      "Requirement already satisfied: pyamg in c:\\users\\sarin\\anaconda3\\lib\\site-packages (from autoviz) (5.0.1)\n",
      "Requirement already satisfied: scikit-learn in c:\\users\\sarin\\anaconda3\\lib\\site-packages (from autoviz) (1.3.0)\n",
      "Requirement already satisfied: seaborn>=0.12.2 in c:\\users\\sarin\\anaconda3\\lib\\site-packages (from autoviz) (0.12.2)\n",
      "Requirement already satisfied: statsmodels in c:\\users\\sarin\\anaconda3\\lib\\site-packages (from autoviz) (0.14.0)\n",
      "Requirement already satisfied: textblob in c:\\users\\sarin\\anaconda3\\lib\\site-packages (from autoviz) (0.18.0.post0)\n",
      "Requirement already satisfied: typing-extensions>=4.1.1 in c:\\users\\sarin\\anaconda3\\lib\\site-packages (from autoviz) (4.11.0)\n",
      "Requirement already satisfied: wordcloud in c:\\users\\sarin\\anaconda3\\lib\\site-packages (from autoviz) (1.9.3)\n",
      "Requirement already satisfied: xgboost<1.7,>=0.82 in c:\\users\\sarin\\anaconda3\\lib\\site-packages (from autoviz) (1.6.2)\n",
      "Requirement already satisfied: xlrd in c:\\users\\sarin\\anaconda3\\lib\\site-packages (from autoviz) (2.0.1)\n",
      "Requirement already satisfied: Jinja2>=2.9 in c:\\users\\sarin\\anaconda3\\lib\\site-packages (from bokeh~=2.4.2->autoviz) (3.1.2)\n",
      "Requirement already satisfied: packaging>=16.8 in c:\\users\\sarin\\anaconda3\\lib\\site-packages (from bokeh~=2.4.2->autoviz) (23.1)\n",
      "Requirement already satisfied: pillow>=7.1.0 in c:\\users\\sarin\\anaconda3\\lib\\site-packages (from bokeh~=2.4.2->autoviz) (9.4.0)\n",
      "Requirement already satisfied: PyYAML>=3.10 in c:\\users\\sarin\\anaconda3\\lib\\site-packages (from bokeh~=2.4.2->autoviz) (6.0)\n",
      "Requirement already satisfied: tornado>=5.1 in c:\\users\\sarin\\anaconda3\\lib\\site-packages (from bokeh~=2.4.2->autoviz) (6.3.2)\n",
      "Requirement already satisfied: param<2.0,>=1.9.3 in c:\\users\\sarin\\anaconda3\\lib\\site-packages (from holoviews~=1.14.9->autoviz) (1.13.0)\n",
      "Requirement already satisfied: pyviz-comms>=0.7.4 in c:\\users\\sarin\\anaconda3\\lib\\site-packages (from holoviews~=1.14.9->autoviz) (2.3.0)\n",
      "Requirement already satisfied: colorcet in c:\\users\\sarin\\anaconda3\\lib\\site-packages (from holoviews~=1.14.9->autoviz) (3.0.1)\n",
      "Requirement already satisfied: contourpy>=1.0.1 in c:\\users\\sarin\\anaconda3\\lib\\site-packages (from matplotlib<=3.7.4->autoviz) (1.0.5)\n",
      "Requirement already satisfied: cycler>=0.10 in c:\\users\\sarin\\anaconda3\\lib\\site-packages (from matplotlib<=3.7.4->autoviz) (0.11.0)\n",
      "Requirement already satisfied: fonttools>=4.22.0 in c:\\users\\sarin\\anaconda3\\lib\\site-packages (from matplotlib<=3.7.4->autoviz) (4.25.0)\n",
      "Requirement already satisfied: kiwisolver>=1.0.1 in c:\\users\\sarin\\anaconda3\\lib\\site-packages (from matplotlib<=3.7.4->autoviz) (1.4.4)\n",
      "Requirement already satisfied: pyparsing<3.1,>=2.3.1 in c:\\users\\sarin\\anaconda3\\lib\\site-packages (from matplotlib<=3.7.4->autoviz) (3.0.9)\n",
      "Requirement already satisfied: python-dateutil>=2.7 in c:\\users\\sarin\\anaconda3\\lib\\site-packages (from matplotlib<=3.7.4->autoviz) (2.8.2)\n",
      "Requirement already satisfied: pytz>=2020.1 in c:\\users\\sarin\\anaconda3\\lib\\site-packages (from pandas->autoviz) (2023.3.post1)\n",
      "Requirement already satisfied: tzdata>=2022.1 in c:\\users\\sarin\\anaconda3\\lib\\site-packages (from pandas->autoviz) (2023.3)\n",
      "Requirement already satisfied: markdown in c:\\users\\sarin\\anaconda3\\lib\\site-packages (from panel>=0.12.6->autoviz) (3.4.1)\n",
      "Requirement already satisfied: requests in c:\\users\\sarin\\anaconda3\\lib\\site-packages (from panel>=0.12.6->autoviz) (2.31.0)\n",
      "Requirement already satisfied: tqdm>=4.48.0 in c:\\users\\sarin\\anaconda3\\lib\\site-packages (from panel>=0.12.6->autoviz) (4.65.0)\n",
      "Requirement already satisfied: pyct>=0.4.4 in c:\\users\\sarin\\anaconda3\\lib\\site-packages (from panel>=0.12.6->autoviz) (0.5.0)\n",
      "Requirement already satisfied: bleach in c:\\users\\sarin\\anaconda3\\lib\\site-packages (from panel>=0.12.6->autoviz) (4.1.0)\n",
      "Requirement already satisfied: setuptools>=42 in c:\\users\\sarin\\anaconda3\\lib\\site-packages (from panel>=0.12.6->autoviz) (68.0.0)\n",
      "Requirement already satisfied: scipy>=1.5.0 in c:\\users\\sarin\\anaconda3\\lib\\site-packages (from scikit-learn->autoviz) (1.11.1)\n",
      "Requirement already satisfied: joblib>=1.1.1 in c:\\users\\sarin\\anaconda3\\lib\\site-packages (from scikit-learn->autoviz) (1.1.1)\n",
      "Requirement already satisfied: threadpoolctl>=2.0.0 in c:\\users\\sarin\\anaconda3\\lib\\site-packages (from scikit-learn->autoviz) (2.2.0)\n",
      "Requirement already satisfied: click in c:\\users\\sarin\\anaconda3\\lib\\site-packages (from nltk->autoviz) (8.0.4)\n",
      "Requirement already satisfied: regex>=2021.8.3 in c:\\users\\sarin\\anaconda3\\lib\\site-packages (from nltk->autoviz) (2022.7.9)\n",
      "Requirement already satisfied: patsy>=0.5.2 in c:\\users\\sarin\\anaconda3\\lib\\site-packages (from statsmodels->autoviz) (0.5.3)\n",
      "Requirement already satisfied: MarkupSafe>=2.0 in c:\\users\\sarin\\anaconda3\\lib\\site-packages (from Jinja2>=2.9->bokeh~=2.4.2->autoviz) (2.1.1)\n",
      "Requirement already satisfied: six in c:\\users\\sarin\\anaconda3\\lib\\site-packages (from patsy>=0.5.2->statsmodels->autoviz) (1.16.0)\n",
      "Requirement already satisfied: colorama in c:\\users\\sarin\\anaconda3\\lib\\site-packages (from tqdm>=4.48.0->panel>=0.12.6->autoviz) (0.4.6)\n",
      "Requirement already satisfied: webencodings in c:\\users\\sarin\\anaconda3\\lib\\site-packages (from bleach->panel>=0.12.6->autoviz) (0.5.1)\n",
      "Requirement already satisfied: charset-normalizer<4,>=2 in c:\\users\\sarin\\anaconda3\\lib\\site-packages (from requests->panel>=0.12.6->autoviz) (2.0.4)\n",
      "Requirement already satisfied: idna<4,>=2.5 in c:\\users\\sarin\\anaconda3\\lib\\site-packages (from requests->panel>=0.12.6->autoviz) (3.4)\n",
      "Requirement already satisfied: urllib3<3,>=1.21.1 in c:\\users\\sarin\\anaconda3\\lib\\site-packages (from requests->panel>=0.12.6->autoviz) (1.26.16)\n",
      "Requirement already satisfied: certifi>=2017.4.17 in c:\\users\\sarin\\anaconda3\\lib\\site-packages (from requests->panel>=0.12.6->autoviz) (2024.2.2)\n"
     ]
    }
   ],
   "source": [
    "!pip install autoviz"
   ]
  },
  {
   "cell_type": "code",
   "execution_count": 64,
   "metadata": {
    "colab": {
     "base_uri": "https://localhost:8080/"
    },
    "id": "rgyhe9KASBir",
    "outputId": "e4025a2e-17c6-403a-f01f-4803057f90d0"
   },
   "outputs": [
    {
     "name": "stdout",
     "output_type": "stream",
     "text": [
      "Imported v0.1.806. Please call AutoViz in this sequence:\n",
      "    AV = AutoViz_Class()\n",
      "    %matplotlib inline\n",
      "    dfte = AV.AutoViz(filename, sep=',', depVar='', dfte=None, header=0, verbose=1, lowess=False,\n",
      "               chart_format='svg',max_rows_analyzed=150000,max_cols_analyzed=30, save_plot_dir=None)\n"
     ]
    }
   ],
   "source": [
    "from autoviz.AutoViz_Class import AutoViz_Class\n",
    "AV = AutoViz_Class()"
   ]
  },
  {
   "cell_type": "code",
   "execution_count": 66,
   "metadata": {
    "colab": {
     "base_uri": "https://localhost:8080/",
     "height": 1000
    },
    "id": "q-KOE2Z6SBlN",
    "outputId": "629f6dcb-4422-42a8-8d91-18fec6ef75ba"
   },
   "outputs": [
    {
     "name": "stdout",
     "output_type": "stream",
     "text": [
      "Shape of your Data Set loaded: (2205, 39)\n",
      "#######################################################################################\n",
      "######################## C L A S S I F Y I N G  V A R I A B L E S  ####################\n",
      "#######################################################################################\n",
      "Classifying variables in data set...\n",
      "    Number of Numeric Columns =  1\n",
      "    Number of Integer-Categorical Columns =  19\n",
      "    Number of String-Categorical Columns =  0\n",
      "    Number of Factor-Categorical Columns =  0\n",
      "    Number of String-Boolean Columns =  0\n",
      "    Number of Numeric-Boolean Columns =  17\n",
      "    Number of Discrete String Columns =  0\n",
      "    Number of NLP String Columns =  0\n",
      "    Number of Date Time Columns =  0\n",
      "    Number of ID Columns =  0\n",
      "    Number of Columns to Delete =  2\n",
      "    39 Predictors classified...\n",
      "        2 variable(s) removed since they were ID or low-information variables\n",
      "        List of variables removed: ['Z_CostContact', 'Z_Revenue']\n",
      "1 numeric variables in data exceeds limit, taking top 30 variables\n",
      "    List of variables selected: ['Income']\n",
      "   Total columns > 30, too numerous to print.\n",
      "To fix these data quality issues in the dataset, import FixDQ from autoviz...\n",
      "There are 184 duplicate rows in your dataset\n",
      "    Alert: Dropping duplicate rows can sometimes cause your column data types to change to object!\n",
      "    All variables classified into correct types.\n"
     ]
    },
    {
     "data": {
      "text/html": [
       "<style type=\"text/css\">\n",
       "#T_0be49_row0_col0, #T_0be49_row0_col2, #T_0be49_row0_col5, #T_0be49_row1_col0, #T_0be49_row1_col2, #T_0be49_row1_col5, #T_0be49_row2_col0, #T_0be49_row2_col2, #T_0be49_row2_col5, #T_0be49_row3_col0, #T_0be49_row3_col2, #T_0be49_row3_col5, #T_0be49_row4_col0, #T_0be49_row4_col2, #T_0be49_row4_col5, #T_0be49_row5_col0, #T_0be49_row5_col2, #T_0be49_row5_col5, #T_0be49_row6_col0, #T_0be49_row6_col2, #T_0be49_row6_col5, #T_0be49_row7_col0, #T_0be49_row7_col2, #T_0be49_row7_col5, #T_0be49_row8_col0, #T_0be49_row8_col2, #T_0be49_row8_col5, #T_0be49_row9_col0, #T_0be49_row9_col2, #T_0be49_row9_col5, #T_0be49_row10_col0, #T_0be49_row10_col2, #T_0be49_row10_col5, #T_0be49_row11_col0, #T_0be49_row11_col2, #T_0be49_row11_col5, #T_0be49_row12_col0, #T_0be49_row12_col2, #T_0be49_row12_col5, #T_0be49_row13_col0, #T_0be49_row13_col2, #T_0be49_row13_col5, #T_0be49_row14_col0, #T_0be49_row14_col2, #T_0be49_row14_col5, #T_0be49_row15_col0, #T_0be49_row15_col2, #T_0be49_row15_col5, #T_0be49_row16_col0, #T_0be49_row16_col2, #T_0be49_row16_col5, #T_0be49_row17_col0, #T_0be49_row17_col2, #T_0be49_row17_col5, #T_0be49_row18_col0, #T_0be49_row18_col2, #T_0be49_row18_col5, #T_0be49_row19_col0, #T_0be49_row19_col2, #T_0be49_row19_col5, #T_0be49_row20_col0, #T_0be49_row20_col2, #T_0be49_row20_col5, #T_0be49_row21_col0, #T_0be49_row21_col2, #T_0be49_row21_col5, #T_0be49_row22_col0, #T_0be49_row22_col2, #T_0be49_row22_col5, #T_0be49_row23_col0, #T_0be49_row23_col2, #T_0be49_row23_col5, #T_0be49_row24_col0, #T_0be49_row24_col2, #T_0be49_row24_col5, #T_0be49_row25_col0, #T_0be49_row25_col2, #T_0be49_row25_col5, #T_0be49_row26_col0, #T_0be49_row26_col2, #T_0be49_row26_col5, #T_0be49_row27_col0, #T_0be49_row27_col2, #T_0be49_row27_col5, #T_0be49_row28_col0, #T_0be49_row28_col2, #T_0be49_row28_col5, #T_0be49_row29_col0, #T_0be49_row29_col2, #T_0be49_row29_col5, #T_0be49_row30_col0, #T_0be49_row30_col2, #T_0be49_row30_col5, #T_0be49_row31_col0, #T_0be49_row31_col2, #T_0be49_row31_col5, #T_0be49_row32_col0, #T_0be49_row32_col2, #T_0be49_row32_col5, #T_0be49_row33_col0, #T_0be49_row33_col2, #T_0be49_row33_col5, #T_0be49_row34_col0, #T_0be49_row34_col2, #T_0be49_row34_col5, #T_0be49_row35_col0, #T_0be49_row35_col2, #T_0be49_row35_col5, #T_0be49_row36_col0, #T_0be49_row36_col2, #T_0be49_row36_col5, #T_0be49_row37_col0, #T_0be49_row37_col2, #T_0be49_row37_col5, #T_0be49_row38_col0, #T_0be49_row38_col2, #T_0be49_row38_col5 {\n",
       "  font-family: Segoe UI;\n",
       "}\n",
       "#T_0be49_row0_col1, #T_0be49_row1_col1, #T_0be49_row1_col4, #T_0be49_row2_col1, #T_0be49_row2_col4, #T_0be49_row3_col1, #T_0be49_row3_col4, #T_0be49_row4_col1, #T_0be49_row5_col1, #T_0be49_row5_col4, #T_0be49_row6_col1, #T_0be49_row7_col1, #T_0be49_row7_col4, #T_0be49_row8_col1, #T_0be49_row8_col4, #T_0be49_row9_col1, #T_0be49_row9_col4, #T_0be49_row10_col1, #T_0be49_row10_col4, #T_0be49_row11_col1, #T_0be49_row11_col4, #T_0be49_row12_col1, #T_0be49_row12_col4, #T_0be49_row13_col1, #T_0be49_row13_col4, #T_0be49_row14_col1, #T_0be49_row14_col4, #T_0be49_row15_col1, #T_0be49_row15_col4, #T_0be49_row16_col1, #T_0be49_row16_col4, #T_0be49_row17_col1, #T_0be49_row17_col4, #T_0be49_row18_col1, #T_0be49_row18_col4, #T_0be49_row19_col1, #T_0be49_row19_col4, #T_0be49_row20_col1, #T_0be49_row20_col4, #T_0be49_row21_col1, #T_0be49_row21_col4, #T_0be49_row22_col1, #T_0be49_row22_col4, #T_0be49_row23_col1, #T_0be49_row23_col4, #T_0be49_row24_col1, #T_0be49_row24_col4, #T_0be49_row25_col1, #T_0be49_row26_col1, #T_0be49_row26_col4, #T_0be49_row27_col1, #T_0be49_row27_col4, #T_0be49_row28_col1, #T_0be49_row28_col4, #T_0be49_row29_col1, #T_0be49_row29_col4, #T_0be49_row30_col1, #T_0be49_row30_col4, #T_0be49_row31_col1, #T_0be49_row31_col4, #T_0be49_row32_col1, #T_0be49_row32_col4, #T_0be49_row33_col1, #T_0be49_row33_col4, #T_0be49_row34_col1, #T_0be49_row34_col4, #T_0be49_row35_col1, #T_0be49_row35_col4, #T_0be49_row36_col1, #T_0be49_row37_col1, #T_0be49_row37_col3, #T_0be49_row38_col1, #T_0be49_row38_col4 {\n",
       "  background-color: #fff5f0;\n",
       "  color: #000000;\n",
       "  font-family: Segoe UI;\n",
       "}\n",
       "#T_0be49_row0_col3 {\n",
       "  background-color: #b31218;\n",
       "  color: #f1f1f1;\n",
       "  font-family: Segoe UI;\n",
       "}\n",
       "#T_0be49_row0_col4, #T_0be49_row25_col3 {\n",
       "  background-color: #67000d;\n",
       "  color: #f1f1f1;\n",
       "  font-family: Segoe UI;\n",
       "}\n",
       "#T_0be49_row1_col3, #T_0be49_row2_col3, #T_0be49_row3_col3, #T_0be49_row4_col3, #T_0be49_row5_col3, #T_0be49_row6_col3, #T_0be49_row7_col3, #T_0be49_row8_col3, #T_0be49_row9_col3, #T_0be49_row10_col3, #T_0be49_row11_col3, #T_0be49_row12_col3, #T_0be49_row13_col3, #T_0be49_row14_col3, #T_0be49_row15_col3, #T_0be49_row16_col3, #T_0be49_row17_col3, #T_0be49_row18_col3, #T_0be49_row19_col3, #T_0be49_row20_col3, #T_0be49_row21_col3, #T_0be49_row23_col3, #T_0be49_row26_col3, #T_0be49_row27_col3, #T_0be49_row28_col3, #T_0be49_row29_col3, #T_0be49_row30_col3, #T_0be49_row31_col3, #T_0be49_row32_col3, #T_0be49_row33_col3, #T_0be49_row34_col3, #T_0be49_row35_col3, #T_0be49_row38_col3 {\n",
       "  background-color: #fee2d5;\n",
       "  color: #000000;\n",
       "  font-family: Segoe UI;\n",
       "}\n",
       "#T_0be49_row4_col4, #T_0be49_row6_col4 {\n",
       "  background-color: #fff3ed;\n",
       "  color: #000000;\n",
       "  font-family: Segoe UI;\n",
       "}\n",
       "#T_0be49_row22_col3, #T_0be49_row36_col3 {\n",
       "  background-color: #fee1d4;\n",
       "  color: #000000;\n",
       "  font-family: Segoe UI;\n",
       "}\n",
       "#T_0be49_row24_col3 {\n",
       "  background-color: #fee0d2;\n",
       "  color: #000000;\n",
       "  font-family: Segoe UI;\n",
       "}\n",
       "#T_0be49_row25_col4 {\n",
       "  background-color: #fff1ea;\n",
       "  color: #000000;\n",
       "  font-family: Segoe UI;\n",
       "}\n",
       "#T_0be49_row36_col4, #T_0be49_row37_col4 {\n",
       "  background-color: #fff2eb;\n",
       "  color: #000000;\n",
       "  font-family: Segoe UI;\n",
       "}\n",
       "</style>\n",
       "<table id=\"T_0be49\">\n",
       "  <thead>\n",
       "    <tr>\n",
       "      <th class=\"blank level0\" >&nbsp;</th>\n",
       "      <th id=\"T_0be49_level0_col0\" class=\"col_heading level0 col0\" >Data Type</th>\n",
       "      <th id=\"T_0be49_level0_col1\" class=\"col_heading level0 col1\" >Missing Values%</th>\n",
       "      <th id=\"T_0be49_level0_col2\" class=\"col_heading level0 col2\" >Unique Values%</th>\n",
       "      <th id=\"T_0be49_level0_col3\" class=\"col_heading level0 col3\" >Minimum Value</th>\n",
       "      <th id=\"T_0be49_level0_col4\" class=\"col_heading level0 col4\" >Maximum Value</th>\n",
       "      <th id=\"T_0be49_level0_col5\" class=\"col_heading level0 col5\" >DQ Issue</th>\n",
       "    </tr>\n",
       "  </thead>\n",
       "  <tbody>\n",
       "    <tr>\n",
       "      <th id=\"T_0be49_level0_row0\" class=\"row_heading level0 row0\" >Income</th>\n",
       "      <td id=\"T_0be49_row0_col0\" class=\"data row0 col0\" >float64</td>\n",
       "      <td id=\"T_0be49_row0_col1\" class=\"data row0 col1\" >0.000000</td>\n",
       "      <td id=\"T_0be49_row0_col2\" class=\"data row0 col2\" >NA</td>\n",
       "      <td id=\"T_0be49_row0_col3\" class=\"data row0 col3\" >1730.000000</td>\n",
       "      <td id=\"T_0be49_row0_col4\" class=\"data row0 col4\" >113734.000000</td>\n",
       "      <td id=\"T_0be49_row0_col5\" class=\"data row0 col5\" >No issue</td>\n",
       "    </tr>\n",
       "    <tr>\n",
       "      <th id=\"T_0be49_level0_row1\" class=\"row_heading level0 row1\" >Kidhome</th>\n",
       "      <td id=\"T_0be49_row1_col0\" class=\"data row1 col0\" >int64</td>\n",
       "      <td id=\"T_0be49_row1_col1\" class=\"data row1 col1\" >0.000000</td>\n",
       "      <td id=\"T_0be49_row1_col2\" class=\"data row1 col2\" >0</td>\n",
       "      <td id=\"T_0be49_row1_col3\" class=\"data row1 col3\" >0.000000</td>\n",
       "      <td id=\"T_0be49_row1_col4\" class=\"data row1 col4\" >2.000000</td>\n",
       "      <td id=\"T_0be49_row1_col5\" class=\"data row1 col5\" >No issue</td>\n",
       "    </tr>\n",
       "    <tr>\n",
       "      <th id=\"T_0be49_level0_row2\" class=\"row_heading level0 row2\" >Teenhome</th>\n",
       "      <td id=\"T_0be49_row2_col0\" class=\"data row2 col0\" >int64</td>\n",
       "      <td id=\"T_0be49_row2_col1\" class=\"data row2 col1\" >0.000000</td>\n",
       "      <td id=\"T_0be49_row2_col2\" class=\"data row2 col2\" >0</td>\n",
       "      <td id=\"T_0be49_row2_col3\" class=\"data row2 col3\" >0.000000</td>\n",
       "      <td id=\"T_0be49_row2_col4\" class=\"data row2 col4\" >2.000000</td>\n",
       "      <td id=\"T_0be49_row2_col5\" class=\"data row2 col5\" >No issue</td>\n",
       "    </tr>\n",
       "    <tr>\n",
       "      <th id=\"T_0be49_level0_row3\" class=\"row_heading level0 row3\" >Recency</th>\n",
       "      <td id=\"T_0be49_row3_col0\" class=\"data row3 col0\" >int64</td>\n",
       "      <td id=\"T_0be49_row3_col1\" class=\"data row3 col1\" >0.000000</td>\n",
       "      <td id=\"T_0be49_row3_col2\" class=\"data row3 col2\" >4</td>\n",
       "      <td id=\"T_0be49_row3_col3\" class=\"data row3 col3\" >0.000000</td>\n",
       "      <td id=\"T_0be49_row3_col4\" class=\"data row3 col4\" >99.000000</td>\n",
       "      <td id=\"T_0be49_row3_col5\" class=\"data row3 col5\" >No issue</td>\n",
       "    </tr>\n",
       "    <tr>\n",
       "      <th id=\"T_0be49_level0_row4\" class=\"row_heading level0 row4\" >MntWines</th>\n",
       "      <td id=\"T_0be49_row4_col0\" class=\"data row4 col0\" >int64</td>\n",
       "      <td id=\"T_0be49_row4_col1\" class=\"data row4 col1\" >0.000000</td>\n",
       "      <td id=\"T_0be49_row4_col2\" class=\"data row4 col2\" >38</td>\n",
       "      <td id=\"T_0be49_row4_col3\" class=\"data row4 col3\" >0.000000</td>\n",
       "      <td id=\"T_0be49_row4_col4\" class=\"data row4 col4\" >1493.000000</td>\n",
       "      <td id=\"T_0be49_row4_col5\" class=\"data row4 col5\" >Column has 32 outliers greater than upper bound (1231.50) or lower than lower bound(-700.50). Cap them or remove them.</td>\n",
       "    </tr>\n",
       "    <tr>\n",
       "      <th id=\"T_0be49_level0_row5\" class=\"row_heading level0 row5\" >MntFruits</th>\n",
       "      <td id=\"T_0be49_row5_col0\" class=\"data row5 col0\" >int64</td>\n",
       "      <td id=\"T_0be49_row5_col1\" class=\"data row5 col1\" >0.000000</td>\n",
       "      <td id=\"T_0be49_row5_col2\" class=\"data row5 col2\" >7</td>\n",
       "      <td id=\"T_0be49_row5_col3\" class=\"data row5 col3\" >0.000000</td>\n",
       "      <td id=\"T_0be49_row5_col4\" class=\"data row5 col4\" >199.000000</td>\n",
       "      <td id=\"T_0be49_row5_col5\" class=\"data row5 col5\" >Column has 221 outliers greater than upper bound (79.50) or lower than lower bound(-44.50). Cap them or remove them.</td>\n",
       "    </tr>\n",
       "    <tr>\n",
       "      <th id=\"T_0be49_level0_row6\" class=\"row_heading level0 row6\" >MntMeatProducts</th>\n",
       "      <td id=\"T_0be49_row6_col0\" class=\"data row6 col0\" >int64</td>\n",
       "      <td id=\"T_0be49_row6_col1\" class=\"data row6 col1\" >0.000000</td>\n",
       "      <td id=\"T_0be49_row6_col2\" class=\"data row6 col2\" >27</td>\n",
       "      <td id=\"T_0be49_row6_col3\" class=\"data row6 col3\" >0.000000</td>\n",
       "      <td id=\"T_0be49_row6_col4\" class=\"data row6 col4\" >1725.000000</td>\n",
       "      <td id=\"T_0be49_row6_col5\" class=\"data row6 col5\" >Column has 168 outliers greater than upper bound (551.00) or lower than lower bound(-305.00). Cap them or remove them.</td>\n",
       "    </tr>\n",
       "    <tr>\n",
       "      <th id=\"T_0be49_level0_row7\" class=\"row_heading level0 row7\" >MntFishProducts</th>\n",
       "      <td id=\"T_0be49_row7_col0\" class=\"data row7 col0\" >int64</td>\n",
       "      <td id=\"T_0be49_row7_col1\" class=\"data row7 col1\" >0.000000</td>\n",
       "      <td id=\"T_0be49_row7_col2\" class=\"data row7 col2\" >9</td>\n",
       "      <td id=\"T_0be49_row7_col3\" class=\"data row7 col3\" >0.000000</td>\n",
       "      <td id=\"T_0be49_row7_col4\" class=\"data row7 col4\" >259.000000</td>\n",
       "      <td id=\"T_0be49_row7_col5\" class=\"data row7 col5\" >Column has 202 outliers greater than upper bound (120.50) or lower than lower bound(-67.50). Cap them or remove them.</td>\n",
       "    </tr>\n",
       "    <tr>\n",
       "      <th id=\"T_0be49_level0_row8\" class=\"row_heading level0 row8\" >MntSweetProducts</th>\n",
       "      <td id=\"T_0be49_row8_col0\" class=\"data row8 col0\" >int64</td>\n",
       "      <td id=\"T_0be49_row8_col1\" class=\"data row8 col1\" >0.000000</td>\n",
       "      <td id=\"T_0be49_row8_col2\" class=\"data row8 col2\" >8</td>\n",
       "      <td id=\"T_0be49_row8_col3\" class=\"data row8 col3\" >0.000000</td>\n",
       "      <td id=\"T_0be49_row8_col4\" class=\"data row8 col4\" >262.000000</td>\n",
       "      <td id=\"T_0be49_row8_col5\" class=\"data row8 col5\" >Column has 219 outliers greater than upper bound (83.50) or lower than lower bound(-48.50). Cap them or remove them.</td>\n",
       "    </tr>\n",
       "    <tr>\n",
       "      <th id=\"T_0be49_level0_row9\" class=\"row_heading level0 row9\" >MntGoldProds</th>\n",
       "      <td id=\"T_0be49_row9_col0\" class=\"data row9 col0\" >int64</td>\n",
       "      <td id=\"T_0be49_row9_col1\" class=\"data row9 col1\" >0.000000</td>\n",
       "      <td id=\"T_0be49_row9_col2\" class=\"data row9 col2\" >10</td>\n",
       "      <td id=\"T_0be49_row9_col3\" class=\"data row9 col3\" >0.000000</td>\n",
       "      <td id=\"T_0be49_row9_col4\" class=\"data row9 col4\" >321.000000</td>\n",
       "      <td id=\"T_0be49_row9_col5\" class=\"data row9 col5\" >Column has 184 outliers greater than upper bound (126.50) or lower than lower bound(-61.50). Cap them or remove them.</td>\n",
       "    </tr>\n",
       "    <tr>\n",
       "      <th id=\"T_0be49_level0_row10\" class=\"row_heading level0 row10\" >NumDealsPurchases</th>\n",
       "      <td id=\"T_0be49_row10_col0\" class=\"data row10 col0\" >int64</td>\n",
       "      <td id=\"T_0be49_row10_col1\" class=\"data row10 col1\" >0.000000</td>\n",
       "      <td id=\"T_0be49_row10_col2\" class=\"data row10 col2\" >0</td>\n",
       "      <td id=\"T_0be49_row10_col3\" class=\"data row10 col3\" >0.000000</td>\n",
       "      <td id=\"T_0be49_row10_col4\" class=\"data row10 col4\" >15.000000</td>\n",
       "      <td id=\"T_0be49_row10_col5\" class=\"data row10 col5\" >Column has 74 outliers greater than upper bound (6.00) or lower than lower bound(-2.00). Cap them or remove them.</td>\n",
       "    </tr>\n",
       "    <tr>\n",
       "      <th id=\"T_0be49_level0_row11\" class=\"row_heading level0 row11\" >NumWebPurchases</th>\n",
       "      <td id=\"T_0be49_row11_col0\" class=\"data row11 col0\" >int64</td>\n",
       "      <td id=\"T_0be49_row11_col1\" class=\"data row11 col1\" >0.000000</td>\n",
       "      <td id=\"T_0be49_row11_col2\" class=\"data row11 col2\" >0</td>\n",
       "      <td id=\"T_0be49_row11_col3\" class=\"data row11 col3\" >0.000000</td>\n",
       "      <td id=\"T_0be49_row11_col4\" class=\"data row11 col4\" >27.000000</td>\n",
       "      <td id=\"T_0be49_row11_col5\" class=\"data row11 col5\" >Column has 3 outliers greater than upper bound (12.00) or lower than lower bound(-4.00). Cap them or remove them.</td>\n",
       "    </tr>\n",
       "    <tr>\n",
       "      <th id=\"T_0be49_level0_row12\" class=\"row_heading level0 row12\" >NumCatalogPurchases</th>\n",
       "      <td id=\"T_0be49_row12_col0\" class=\"data row12 col0\" >int64</td>\n",
       "      <td id=\"T_0be49_row12_col1\" class=\"data row12 col1\" >0.000000</td>\n",
       "      <td id=\"T_0be49_row12_col2\" class=\"data row12 col2\" >0</td>\n",
       "      <td id=\"T_0be49_row12_col3\" class=\"data row12 col3\" >0.000000</td>\n",
       "      <td id=\"T_0be49_row12_col4\" class=\"data row12 col4\" >28.000000</td>\n",
       "      <td id=\"T_0be49_row12_col5\" class=\"data row12 col5\" >Column has 19 outliers greater than upper bound (10.00) or lower than lower bound(-6.00). Cap them or remove them.</td>\n",
       "    </tr>\n",
       "    <tr>\n",
       "      <th id=\"T_0be49_level0_row13\" class=\"row_heading level0 row13\" >NumStorePurchases</th>\n",
       "      <td id=\"T_0be49_row13_col0\" class=\"data row13 col0\" >int64</td>\n",
       "      <td id=\"T_0be49_row13_col1\" class=\"data row13 col1\" >0.000000</td>\n",
       "      <td id=\"T_0be49_row13_col2\" class=\"data row13 col2\" >0</td>\n",
       "      <td id=\"T_0be49_row13_col3\" class=\"data row13 col3\" >0.000000</td>\n",
       "      <td id=\"T_0be49_row13_col4\" class=\"data row13 col4\" >13.000000</td>\n",
       "      <td id=\"T_0be49_row13_col5\" class=\"data row13 col5\" >No issue</td>\n",
       "    </tr>\n",
       "    <tr>\n",
       "      <th id=\"T_0be49_level0_row14\" class=\"row_heading level0 row14\" >NumWebVisitsMonth</th>\n",
       "      <td id=\"T_0be49_row14_col0\" class=\"data row14 col0\" >int64</td>\n",
       "      <td id=\"T_0be49_row14_col1\" class=\"data row14 col1\" >0.000000</td>\n",
       "      <td id=\"T_0be49_row14_col2\" class=\"data row14 col2\" >0</td>\n",
       "      <td id=\"T_0be49_row14_col3\" class=\"data row14 col3\" >0.000000</td>\n",
       "      <td id=\"T_0be49_row14_col4\" class=\"data row14 col4\" >20.000000</td>\n",
       "      <td id=\"T_0be49_row14_col5\" class=\"data row14 col5\" >Column has 8 outliers greater than upper bound (13.00) or lower than lower bound(-3.00). Cap them or remove them.</td>\n",
       "    </tr>\n",
       "    <tr>\n",
       "      <th id=\"T_0be49_level0_row15\" class=\"row_heading level0 row15\" >AcceptedCmp3</th>\n",
       "      <td id=\"T_0be49_row15_col0\" class=\"data row15 col0\" >int64</td>\n",
       "      <td id=\"T_0be49_row15_col1\" class=\"data row15 col1\" >0.000000</td>\n",
       "      <td id=\"T_0be49_row15_col2\" class=\"data row15 col2\" >0</td>\n",
       "      <td id=\"T_0be49_row15_col3\" class=\"data row15 col3\" >0.000000</td>\n",
       "      <td id=\"T_0be49_row15_col4\" class=\"data row15 col4\" >1.000000</td>\n",
       "      <td id=\"T_0be49_row15_col5\" class=\"data row15 col5\" >No issue</td>\n",
       "    </tr>\n",
       "    <tr>\n",
       "      <th id=\"T_0be49_level0_row16\" class=\"row_heading level0 row16\" >AcceptedCmp4</th>\n",
       "      <td id=\"T_0be49_row16_col0\" class=\"data row16 col0\" >int64</td>\n",
       "      <td id=\"T_0be49_row16_col1\" class=\"data row16 col1\" >0.000000</td>\n",
       "      <td id=\"T_0be49_row16_col2\" class=\"data row16 col2\" >0</td>\n",
       "      <td id=\"T_0be49_row16_col3\" class=\"data row16 col3\" >0.000000</td>\n",
       "      <td id=\"T_0be49_row16_col4\" class=\"data row16 col4\" >1.000000</td>\n",
       "      <td id=\"T_0be49_row16_col5\" class=\"data row16 col5\" >No issue</td>\n",
       "    </tr>\n",
       "    <tr>\n",
       "      <th id=\"T_0be49_level0_row17\" class=\"row_heading level0 row17\" >AcceptedCmp5</th>\n",
       "      <td id=\"T_0be49_row17_col0\" class=\"data row17 col0\" >int64</td>\n",
       "      <td id=\"T_0be49_row17_col1\" class=\"data row17 col1\" >0.000000</td>\n",
       "      <td id=\"T_0be49_row17_col2\" class=\"data row17 col2\" >0</td>\n",
       "      <td id=\"T_0be49_row17_col3\" class=\"data row17 col3\" >0.000000</td>\n",
       "      <td id=\"T_0be49_row17_col4\" class=\"data row17 col4\" >1.000000</td>\n",
       "      <td id=\"T_0be49_row17_col5\" class=\"data row17 col5\" >No issue</td>\n",
       "    </tr>\n",
       "    <tr>\n",
       "      <th id=\"T_0be49_level0_row18\" class=\"row_heading level0 row18\" >AcceptedCmp1</th>\n",
       "      <td id=\"T_0be49_row18_col0\" class=\"data row18 col0\" >int64</td>\n",
       "      <td id=\"T_0be49_row18_col1\" class=\"data row18 col1\" >0.000000</td>\n",
       "      <td id=\"T_0be49_row18_col2\" class=\"data row18 col2\" >0</td>\n",
       "      <td id=\"T_0be49_row18_col3\" class=\"data row18 col3\" >0.000000</td>\n",
       "      <td id=\"T_0be49_row18_col4\" class=\"data row18 col4\" >1.000000</td>\n",
       "      <td id=\"T_0be49_row18_col5\" class=\"data row18 col5\" >No issue</td>\n",
       "    </tr>\n",
       "    <tr>\n",
       "      <th id=\"T_0be49_level0_row19\" class=\"row_heading level0 row19\" >AcceptedCmp2</th>\n",
       "      <td id=\"T_0be49_row19_col0\" class=\"data row19 col0\" >int64</td>\n",
       "      <td id=\"T_0be49_row19_col1\" class=\"data row19 col1\" >0.000000</td>\n",
       "      <td id=\"T_0be49_row19_col2\" class=\"data row19 col2\" >0</td>\n",
       "      <td id=\"T_0be49_row19_col3\" class=\"data row19 col3\" >0.000000</td>\n",
       "      <td id=\"T_0be49_row19_col4\" class=\"data row19 col4\" >1.000000</td>\n",
       "      <td id=\"T_0be49_row19_col5\" class=\"data row19 col5\" >No issue</td>\n",
       "    </tr>\n",
       "    <tr>\n",
       "      <th id=\"T_0be49_level0_row20\" class=\"row_heading level0 row20\" >Complain</th>\n",
       "      <td id=\"T_0be49_row20_col0\" class=\"data row20 col0\" >int64</td>\n",
       "      <td id=\"T_0be49_row20_col1\" class=\"data row20 col1\" >0.000000</td>\n",
       "      <td id=\"T_0be49_row20_col2\" class=\"data row20 col2\" >0</td>\n",
       "      <td id=\"T_0be49_row20_col3\" class=\"data row20 col3\" >0.000000</td>\n",
       "      <td id=\"T_0be49_row20_col4\" class=\"data row20 col4\" >1.000000</td>\n",
       "      <td id=\"T_0be49_row20_col5\" class=\"data row20 col5\" >No issue</td>\n",
       "    </tr>\n",
       "    <tr>\n",
       "      <th id=\"T_0be49_level0_row21\" class=\"row_heading level0 row21\" >Z_CostContact</th>\n",
       "      <td id=\"T_0be49_row21_col0\" class=\"data row21 col0\" >int64</td>\n",
       "      <td id=\"T_0be49_row21_col1\" class=\"data row21 col1\" >0.000000</td>\n",
       "      <td id=\"T_0be49_row21_col2\" class=\"data row21 col2\" >0</td>\n",
       "      <td id=\"T_0be49_row21_col3\" class=\"data row21 col3\" >3.000000</td>\n",
       "      <td id=\"T_0be49_row21_col4\" class=\"data row21 col4\" >3.000000</td>\n",
       "      <td id=\"T_0be49_row21_col5\" class=\"data row21 col5\" >Possible Zero-variance or low information colum: drop before modeling step.</td>\n",
       "    </tr>\n",
       "    <tr>\n",
       "      <th id=\"T_0be49_level0_row22\" class=\"row_heading level0 row22\" >Z_Revenue</th>\n",
       "      <td id=\"T_0be49_row22_col0\" class=\"data row22 col0\" >int64</td>\n",
       "      <td id=\"T_0be49_row22_col1\" class=\"data row22 col1\" >0.000000</td>\n",
       "      <td id=\"T_0be49_row22_col2\" class=\"data row22 col2\" >0</td>\n",
       "      <td id=\"T_0be49_row22_col3\" class=\"data row22 col3\" >11.000000</td>\n",
       "      <td id=\"T_0be49_row22_col4\" class=\"data row22 col4\" >11.000000</td>\n",
       "      <td id=\"T_0be49_row22_col5\" class=\"data row22 col5\" >Possible Zero-variance or low information colum: drop before modeling step.</td>\n",
       "    </tr>\n",
       "    <tr>\n",
       "      <th id=\"T_0be49_level0_row23\" class=\"row_heading level0 row23\" >Response</th>\n",
       "      <td id=\"T_0be49_row23_col0\" class=\"data row23 col0\" >int64</td>\n",
       "      <td id=\"T_0be49_row23_col1\" class=\"data row23 col1\" >0.000000</td>\n",
       "      <td id=\"T_0be49_row23_col2\" class=\"data row23 col2\" >0</td>\n",
       "      <td id=\"T_0be49_row23_col3\" class=\"data row23 col3\" >0.000000</td>\n",
       "      <td id=\"T_0be49_row23_col4\" class=\"data row23 col4\" >1.000000</td>\n",
       "      <td id=\"T_0be49_row23_col5\" class=\"data row23 col5\" >No issue</td>\n",
       "    </tr>\n",
       "    <tr>\n",
       "      <th id=\"T_0be49_level0_row24\" class=\"row_heading level0 row24\" >Age</th>\n",
       "      <td id=\"T_0be49_row24_col0\" class=\"data row24 col0\" >int64</td>\n",
       "      <td id=\"T_0be49_row24_col1\" class=\"data row24 col1\" >0.000000</td>\n",
       "      <td id=\"T_0be49_row24_col2\" class=\"data row24 col2\" >2</td>\n",
       "      <td id=\"T_0be49_row24_col3\" class=\"data row24 col3\" >24.000000</td>\n",
       "      <td id=\"T_0be49_row24_col4\" class=\"data row24 col4\" >80.000000</td>\n",
       "      <td id=\"T_0be49_row24_col5\" class=\"data row24 col5\" >No issue</td>\n",
       "    </tr>\n",
       "    <tr>\n",
       "      <th id=\"T_0be49_level0_row25\" class=\"row_heading level0 row25\" >Customer_Days</th>\n",
       "      <td id=\"T_0be49_row25_col0\" class=\"data row25 col0\" >int64</td>\n",
       "      <td id=\"T_0be49_row25_col1\" class=\"data row25 col1\" >0.000000</td>\n",
       "      <td id=\"T_0be49_row25_col2\" class=\"data row25 col2\" >32</td>\n",
       "      <td id=\"T_0be49_row25_col3\" class=\"data row25 col3\" >2159.000000</td>\n",
       "      <td id=\"T_0be49_row25_col4\" class=\"data row25 col4\" >2858.000000</td>\n",
       "      <td id=\"T_0be49_row25_col5\" class=\"data row25 col5\" >No issue</td>\n",
       "    </tr>\n",
       "    <tr>\n",
       "      <th id=\"T_0be49_level0_row26\" class=\"row_heading level0 row26\" >marital_Divorced</th>\n",
       "      <td id=\"T_0be49_row26_col0\" class=\"data row26 col0\" >int64</td>\n",
       "      <td id=\"T_0be49_row26_col1\" class=\"data row26 col1\" >0.000000</td>\n",
       "      <td id=\"T_0be49_row26_col2\" class=\"data row26 col2\" >0</td>\n",
       "      <td id=\"T_0be49_row26_col3\" class=\"data row26 col3\" >0.000000</td>\n",
       "      <td id=\"T_0be49_row26_col4\" class=\"data row26 col4\" >1.000000</td>\n",
       "      <td id=\"T_0be49_row26_col5\" class=\"data row26 col5\" >No issue</td>\n",
       "    </tr>\n",
       "    <tr>\n",
       "      <th id=\"T_0be49_level0_row27\" class=\"row_heading level0 row27\" >marital_Married</th>\n",
       "      <td id=\"T_0be49_row27_col0\" class=\"data row27 col0\" >int64</td>\n",
       "      <td id=\"T_0be49_row27_col1\" class=\"data row27 col1\" >0.000000</td>\n",
       "      <td id=\"T_0be49_row27_col2\" class=\"data row27 col2\" >0</td>\n",
       "      <td id=\"T_0be49_row27_col3\" class=\"data row27 col3\" >0.000000</td>\n",
       "      <td id=\"T_0be49_row27_col4\" class=\"data row27 col4\" >1.000000</td>\n",
       "      <td id=\"T_0be49_row27_col5\" class=\"data row27 col5\" >No issue</td>\n",
       "    </tr>\n",
       "    <tr>\n",
       "      <th id=\"T_0be49_level0_row28\" class=\"row_heading level0 row28\" >marital_Single</th>\n",
       "      <td id=\"T_0be49_row28_col0\" class=\"data row28 col0\" >int64</td>\n",
       "      <td id=\"T_0be49_row28_col1\" class=\"data row28 col1\" >0.000000</td>\n",
       "      <td id=\"T_0be49_row28_col2\" class=\"data row28 col2\" >0</td>\n",
       "      <td id=\"T_0be49_row28_col3\" class=\"data row28 col3\" >0.000000</td>\n",
       "      <td id=\"T_0be49_row28_col4\" class=\"data row28 col4\" >1.000000</td>\n",
       "      <td id=\"T_0be49_row28_col5\" class=\"data row28 col5\" >No issue</td>\n",
       "    </tr>\n",
       "    <tr>\n",
       "      <th id=\"T_0be49_level0_row29\" class=\"row_heading level0 row29\" >marital_Together</th>\n",
       "      <td id=\"T_0be49_row29_col0\" class=\"data row29 col0\" >int64</td>\n",
       "      <td id=\"T_0be49_row29_col1\" class=\"data row29 col1\" >0.000000</td>\n",
       "      <td id=\"T_0be49_row29_col2\" class=\"data row29 col2\" >0</td>\n",
       "      <td id=\"T_0be49_row29_col3\" class=\"data row29 col3\" >0.000000</td>\n",
       "      <td id=\"T_0be49_row29_col4\" class=\"data row29 col4\" >1.000000</td>\n",
       "      <td id=\"T_0be49_row29_col5\" class=\"data row29 col5\" >No issue</td>\n",
       "    </tr>\n",
       "    <tr>\n",
       "      <th id=\"T_0be49_level0_row30\" class=\"row_heading level0 row30\" >marital_Widow</th>\n",
       "      <td id=\"T_0be49_row30_col0\" class=\"data row30 col0\" >int64</td>\n",
       "      <td id=\"T_0be49_row30_col1\" class=\"data row30 col1\" >0.000000</td>\n",
       "      <td id=\"T_0be49_row30_col2\" class=\"data row30 col2\" >0</td>\n",
       "      <td id=\"T_0be49_row30_col3\" class=\"data row30 col3\" >0.000000</td>\n",
       "      <td id=\"T_0be49_row30_col4\" class=\"data row30 col4\" >1.000000</td>\n",
       "      <td id=\"T_0be49_row30_col5\" class=\"data row30 col5\" >No issue</td>\n",
       "    </tr>\n",
       "    <tr>\n",
       "      <th id=\"T_0be49_level0_row31\" class=\"row_heading level0 row31\" >education_2n Cycle</th>\n",
       "      <td id=\"T_0be49_row31_col0\" class=\"data row31 col0\" >int64</td>\n",
       "      <td id=\"T_0be49_row31_col1\" class=\"data row31 col1\" >0.000000</td>\n",
       "      <td id=\"T_0be49_row31_col2\" class=\"data row31 col2\" >0</td>\n",
       "      <td id=\"T_0be49_row31_col3\" class=\"data row31 col3\" >0.000000</td>\n",
       "      <td id=\"T_0be49_row31_col4\" class=\"data row31 col4\" >1.000000</td>\n",
       "      <td id=\"T_0be49_row31_col5\" class=\"data row31 col5\" >No issue</td>\n",
       "    </tr>\n",
       "    <tr>\n",
       "      <th id=\"T_0be49_level0_row32\" class=\"row_heading level0 row32\" >education_Basic</th>\n",
       "      <td id=\"T_0be49_row32_col0\" class=\"data row32 col0\" >int64</td>\n",
       "      <td id=\"T_0be49_row32_col1\" class=\"data row32 col1\" >0.000000</td>\n",
       "      <td id=\"T_0be49_row32_col2\" class=\"data row32 col2\" >0</td>\n",
       "      <td id=\"T_0be49_row32_col3\" class=\"data row32 col3\" >0.000000</td>\n",
       "      <td id=\"T_0be49_row32_col4\" class=\"data row32 col4\" >1.000000</td>\n",
       "      <td id=\"T_0be49_row32_col5\" class=\"data row32 col5\" >No issue</td>\n",
       "    </tr>\n",
       "    <tr>\n",
       "      <th id=\"T_0be49_level0_row33\" class=\"row_heading level0 row33\" >education_Graduation</th>\n",
       "      <td id=\"T_0be49_row33_col0\" class=\"data row33 col0\" >int64</td>\n",
       "      <td id=\"T_0be49_row33_col1\" class=\"data row33 col1\" >0.000000</td>\n",
       "      <td id=\"T_0be49_row33_col2\" class=\"data row33 col2\" >0</td>\n",
       "      <td id=\"T_0be49_row33_col3\" class=\"data row33 col3\" >0.000000</td>\n",
       "      <td id=\"T_0be49_row33_col4\" class=\"data row33 col4\" >1.000000</td>\n",
       "      <td id=\"T_0be49_row33_col5\" class=\"data row33 col5\" >No issue</td>\n",
       "    </tr>\n",
       "    <tr>\n",
       "      <th id=\"T_0be49_level0_row34\" class=\"row_heading level0 row34\" >education_Master</th>\n",
       "      <td id=\"T_0be49_row34_col0\" class=\"data row34 col0\" >int64</td>\n",
       "      <td id=\"T_0be49_row34_col1\" class=\"data row34 col1\" >0.000000</td>\n",
       "      <td id=\"T_0be49_row34_col2\" class=\"data row34 col2\" >0</td>\n",
       "      <td id=\"T_0be49_row34_col3\" class=\"data row34 col3\" >0.000000</td>\n",
       "      <td id=\"T_0be49_row34_col4\" class=\"data row34 col4\" >1.000000</td>\n",
       "      <td id=\"T_0be49_row34_col5\" class=\"data row34 col5\" >No issue</td>\n",
       "    </tr>\n",
       "    <tr>\n",
       "      <th id=\"T_0be49_level0_row35\" class=\"row_heading level0 row35\" >education_PhD</th>\n",
       "      <td id=\"T_0be49_row35_col0\" class=\"data row35 col0\" >int64</td>\n",
       "      <td id=\"T_0be49_row35_col1\" class=\"data row35 col1\" >0.000000</td>\n",
       "      <td id=\"T_0be49_row35_col2\" class=\"data row35 col2\" >0</td>\n",
       "      <td id=\"T_0be49_row35_col3\" class=\"data row35 col3\" >0.000000</td>\n",
       "      <td id=\"T_0be49_row35_col4\" class=\"data row35 col4\" >1.000000</td>\n",
       "      <td id=\"T_0be49_row35_col5\" class=\"data row35 col5\" >No issue</td>\n",
       "    </tr>\n",
       "    <tr>\n",
       "      <th id=\"T_0be49_level0_row36\" class=\"row_heading level0 row36\" >MntTotal</th>\n",
       "      <td id=\"T_0be49_row36_col0\" class=\"data row36 col0\" >int64</td>\n",
       "      <td id=\"T_0be49_row36_col1\" class=\"data row36 col1\" >0.000000</td>\n",
       "      <td id=\"T_0be49_row36_col2\" class=\"data row36 col2\" >44</td>\n",
       "      <td id=\"T_0be49_row36_col3\" class=\"data row36 col3\" >4.000000</td>\n",
       "      <td id=\"T_0be49_row36_col4\" class=\"data row36 col4\" >2491.000000</td>\n",
       "      <td id=\"T_0be49_row36_col5\" class=\"data row36 col5\" >Column has 3 outliers greater than upper bound (2327.50) or lower than lower bound(-1308.50). Cap them or remove them., Column has a high correlation with ['Income', 'MntWines', 'MntMeatProducts']. Consider dropping one of them.</td>\n",
       "    </tr>\n",
       "    <tr>\n",
       "      <th id=\"T_0be49_level0_row37\" class=\"row_heading level0 row37\" >MntRegularProds</th>\n",
       "      <td id=\"T_0be49_row37_col0\" class=\"data row37 col0\" >int64</td>\n",
       "      <td id=\"T_0be49_row37_col1\" class=\"data row37 col1\" >0.000000</td>\n",
       "      <td id=\"T_0be49_row37_col2\" class=\"data row37 col2\" >48</td>\n",
       "      <td id=\"T_0be49_row37_col3\" class=\"data row37 col3\" >-283.000000</td>\n",
       "      <td id=\"T_0be49_row37_col4\" class=\"data row37 col4\" >2458.000000</td>\n",
       "      <td id=\"T_0be49_row37_col5\" class=\"data row37 col5\" >Column has 5 outliers greater than upper bound (2144.50) or lower than lower bound(-1219.50). Cap them or remove them., Column has a high correlation with ['Income', 'MntWines', 'MntMeatProducts', 'MntTotal']. Consider dropping one of them.</td>\n",
       "    </tr>\n",
       "    <tr>\n",
       "      <th id=\"T_0be49_level0_row38\" class=\"row_heading level0 row38\" >AcceptedCmpOverall</th>\n",
       "      <td id=\"T_0be49_row38_col0\" class=\"data row38 col0\" >int64</td>\n",
       "      <td id=\"T_0be49_row38_col1\" class=\"data row38 col1\" >0.000000</td>\n",
       "      <td id=\"T_0be49_row38_col2\" class=\"data row38 col2\" >0</td>\n",
       "      <td id=\"T_0be49_row38_col3\" class=\"data row38 col3\" >0.000000</td>\n",
       "      <td id=\"T_0be49_row38_col4\" class=\"data row38 col4\" >4.000000</td>\n",
       "      <td id=\"T_0be49_row38_col5\" class=\"data row38 col5\" >Column has 426 outliers greater than upper bound (0.00) or lower than lower bound(0.00). Cap them or remove them.</td>\n",
       "    </tr>\n",
       "  </tbody>\n",
       "</table>\n"
      ],
      "text/plain": [
       "<pandas.io.formats.style.Styler at 0x1e31ddf0d50>"
      ]
     },
     "metadata": {},
     "output_type": "display_data"
    },
    {
     "name": "stdout",
     "output_type": "stream",
     "text": [
      "Could not draw Distribution Plot\n",
      "All Plots done\n",
      "Time to run AutoViz = 3 seconds \n",
      "\n",
      " ###################### AUTO VISUALIZATION Completed ########################\n"
     ]
    }
   ],
   "source": [
    "DF_AV = AV.AutoViz(\"ifood_df.csv\")"
   ]
  },
  {
   "cell_type": "code",
   "execution_count": null,
   "metadata": {
    "id": "33_tcd_3SBnx"
   },
   "outputs": [],
   "source": []
  },
  {
   "cell_type": "code",
   "execution_count": null,
   "metadata": {
    "id": "CE5R4jOJSBql"
   },
   "outputs": [],
   "source": []
  },
  {
   "cell_type": "code",
   "execution_count": null,
   "metadata": {
    "id": "5cdFK0bTSBtf"
   },
   "outputs": [],
   "source": []
  }
 ],
 "metadata": {
  "accelerator": "GPU",
  "colab": {
   "gpuType": "T4",
   "provenance": []
  },
  "kernelspec": {
   "display_name": "Python 3 (ipykernel)",
   "language": "python",
   "name": "python3"
  },
  "language_info": {
   "codemirror_mode": {
    "name": "ipython",
    "version": 3
   },
   "file_extension": ".py",
   "mimetype": "text/x-python",
   "name": "python",
   "nbconvert_exporter": "python",
   "pygments_lexer": "ipython3",
   "version": "3.11.5"
  },
  "widgets": {
   "application/vnd.jupyter.widget-state+json": {
    "1d85dace03334607ba5c06058533eb1b": {
     "model_module": "@jupyter-widgets/base",
     "model_module_version": "1.2.0",
     "model_name": "LayoutModel",
     "state": {
      "_model_module": "@jupyter-widgets/base",
      "_model_module_version": "1.2.0",
      "_model_name": "LayoutModel",
      "_view_count": null,
      "_view_module": "@jupyter-widgets/base",
      "_view_module_version": "1.2.0",
      "_view_name": "LayoutView",
      "align_content": null,
      "align_items": null,
      "align_self": null,
      "border": null,
      "bottom": null,
      "display": "inline-flex",
      "flex": null,
      "flex_flow": "row wrap",
      "grid_area": null,
      "grid_auto_columns": null,
      "grid_auto_flow": null,
      "grid_auto_rows": null,
      "grid_column": null,
      "grid_gap": null,
      "grid_row": null,
      "grid_template_areas": null,
      "grid_template_columns": null,
      "grid_template_rows": null,
      "height": null,
      "justify_content": null,
      "justify_items": null,
      "left": null,
      "margin": null,
      "max_height": null,
      "max_width": null,
      "min_height": null,
      "min_width": null,
      "object_fit": null,
      "object_position": null,
      "order": null,
      "overflow": null,
      "overflow_x": null,
      "overflow_y": null,
      "padding": null,
      "right": null,
      "top": null,
      "visibility": null,
      "width": "100%"
     }
    },
    "24fa2704d5b043a68ce35ea011fa65d1": {
     "model_module": "@jupyter-widgets/controls",
     "model_module_version": "1.5.0",
     "model_name": "FloatProgressModel",
     "state": {
      "_dom_classes": [],
      "_model_module": "@jupyter-widgets/controls",
      "_model_module_version": "1.5.0",
      "_model_name": "FloatProgressModel",
      "_view_count": null,
      "_view_module": "@jupyter-widgets/controls",
      "_view_module_version": "1.5.0",
      "_view_name": "ProgressView",
      "bar_style": "success",
      "description": "",
      "description_tooltip": null,
      "layout": "IPY_MODEL_74c57bc7af0d44f9bcde5353b87909c5",
      "max": 1,
      "min": 0,
      "orientation": "horizontal",
      "style": "IPY_MODEL_4096fbbb6df14d1d8427f3f75b67628b",
      "value": 1
     }
    },
    "4096fbbb6df14d1d8427f3f75b67628b": {
     "model_module": "@jupyter-widgets/controls",
     "model_module_version": "1.5.0",
     "model_name": "ProgressStyleModel",
     "state": {
      "_model_module": "@jupyter-widgets/controls",
      "_model_module_version": "1.5.0",
      "_model_name": "ProgressStyleModel",
      "_view_count": null,
      "_view_module": "@jupyter-widgets/base",
      "_view_module_version": "1.2.0",
      "_view_name": "StyleView",
      "bar_color": null,
      "description_width": ""
     }
    },
    "564cf91d728745bbaecc02f88791ee71": {
     "model_module": "@jupyter-widgets/base",
     "model_module_version": "1.2.0",
     "model_name": "LayoutModel",
     "state": {
      "_model_module": "@jupyter-widgets/base",
      "_model_module_version": "1.2.0",
      "_model_name": "LayoutModel",
      "_view_count": null,
      "_view_module": "@jupyter-widgets/base",
      "_view_module_version": "1.2.0",
      "_view_name": "LayoutView",
      "align_content": null,
      "align_items": null,
      "align_self": null,
      "border": null,
      "bottom": null,
      "display": null,
      "flex": null,
      "flex_flow": null,
      "grid_area": null,
      "grid_auto_columns": null,
      "grid_auto_flow": null,
      "grid_auto_rows": null,
      "grid_column": null,
      "grid_gap": null,
      "grid_row": null,
      "grid_template_areas": null,
      "grid_template_columns": null,
      "grid_template_rows": null,
      "height": null,
      "justify_content": null,
      "justify_items": null,
      "left": null,
      "margin": null,
      "max_height": null,
      "max_width": null,
      "min_height": null,
      "min_width": null,
      "object_fit": null,
      "object_position": null,
      "order": null,
      "overflow": null,
      "overflow_x": null,
      "overflow_y": null,
      "padding": null,
      "right": null,
      "top": null,
      "visibility": null,
      "width": null
     }
    },
    "6e318b76de1346a581e4165d49abddf7": {
     "model_module": "@jupyter-widgets/controls",
     "model_module_version": "1.5.0",
     "model_name": "DescriptionStyleModel",
     "state": {
      "_model_module": "@jupyter-widgets/controls",
      "_model_module_version": "1.5.0",
      "_model_name": "DescriptionStyleModel",
      "_view_count": null,
      "_view_module": "@jupyter-widgets/base",
      "_view_module_version": "1.2.0",
      "_view_name": "StyleView",
      "description_width": ""
     }
    },
    "74c57bc7af0d44f9bcde5353b87909c5": {
     "model_module": "@jupyter-widgets/base",
     "model_module_version": "1.2.0",
     "model_name": "LayoutModel",
     "state": {
      "_model_module": "@jupyter-widgets/base",
      "_model_module_version": "1.2.0",
      "_model_name": "LayoutModel",
      "_view_count": null,
      "_view_module": "@jupyter-widgets/base",
      "_view_module_version": "1.2.0",
      "_view_name": "LayoutView",
      "align_content": null,
      "align_items": null,
      "align_self": null,
      "border": null,
      "bottom": null,
      "display": null,
      "flex": "2",
      "flex_flow": null,
      "grid_area": null,
      "grid_auto_columns": null,
      "grid_auto_flow": null,
      "grid_auto_rows": null,
      "grid_column": null,
      "grid_gap": null,
      "grid_row": null,
      "grid_template_areas": null,
      "grid_template_columns": null,
      "grid_template_rows": null,
      "height": null,
      "justify_content": null,
      "justify_items": null,
      "left": null,
      "margin": null,
      "max_height": null,
      "max_width": null,
      "min_height": null,
      "min_width": null,
      "object_fit": null,
      "object_position": null,
      "order": null,
      "overflow": null,
      "overflow_x": null,
      "overflow_y": null,
      "padding": null,
      "right": null,
      "top": null,
      "visibility": null,
      "width": null
     }
    },
    "9383ca5b3a4a477dbd2530b94b0edf29": {
     "model_module": "@jupyter-widgets/controls",
     "model_module_version": "1.5.0",
     "model_name": "DescriptionStyleModel",
     "state": {
      "_model_module": "@jupyter-widgets/controls",
      "_model_module_version": "1.5.0",
      "_model_name": "DescriptionStyleModel",
      "_view_count": null,
      "_view_module": "@jupyter-widgets/base",
      "_view_module_version": "1.2.0",
      "_view_name": "StyleView",
      "description_width": ""
     }
    },
    "ab70eb4c34b24f7b819368ecbd5e5113": {
     "model_module": "@jupyter-widgets/controls",
     "model_module_version": "1.5.0",
     "model_name": "HTMLModel",
     "state": {
      "_dom_classes": [],
      "_model_module": "@jupyter-widgets/controls",
      "_model_module_version": "1.5.0",
      "_model_name": "HTMLModel",
      "_view_count": null,
      "_view_module": "@jupyter-widgets/controls",
      "_view_module_version": "1.5.0",
      "_view_name": "HTMLView",
      "description": "",
      "description_tooltip": null,
      "layout": "IPY_MODEL_564cf91d728745bbaecc02f88791ee71",
      "placeholder": "​",
      "style": "IPY_MODEL_6e318b76de1346a581e4165d49abddf7",
      "value": "Done! Use &#x27;show&#x27; commands to display/save.   "
     }
    },
    "c8b37e3ec25c4c4f8ef23ce8d8b02871": {
     "model_module": "@jupyter-widgets/controls",
     "model_module_version": "1.5.0",
     "model_name": "HBoxModel",
     "state": {
      "_dom_classes": [],
      "_model_module": "@jupyter-widgets/controls",
      "_model_module_version": "1.5.0",
      "_model_name": "HBoxModel",
      "_view_count": null,
      "_view_module": "@jupyter-widgets/controls",
      "_view_module_version": "1.5.0",
      "_view_name": "HBoxView",
      "box_style": "",
      "children": [
       "IPY_MODEL_ab70eb4c34b24f7b819368ecbd5e5113",
       "IPY_MODEL_24fa2704d5b043a68ce35ea011fa65d1",
       "IPY_MODEL_e303376e01ee44fbaf9612c1b5be22de"
      ],
      "layout": "IPY_MODEL_1d85dace03334607ba5c06058533eb1b"
     }
    },
    "d7df0b8fe2eb4241a0129c1b6b90ab1a": {
     "model_module": "@jupyter-widgets/base",
     "model_module_version": "1.2.0",
     "model_name": "LayoutModel",
     "state": {
      "_model_module": "@jupyter-widgets/base",
      "_model_module_version": "1.2.0",
      "_model_name": "LayoutModel",
      "_view_count": null,
      "_view_module": "@jupyter-widgets/base",
      "_view_module_version": "1.2.0",
      "_view_name": "LayoutView",
      "align_content": null,
      "align_items": null,
      "align_self": null,
      "border": null,
      "bottom": null,
      "display": null,
      "flex": null,
      "flex_flow": null,
      "grid_area": null,
      "grid_auto_columns": null,
      "grid_auto_flow": null,
      "grid_auto_rows": null,
      "grid_column": null,
      "grid_gap": null,
      "grid_row": null,
      "grid_template_areas": null,
      "grid_template_columns": null,
      "grid_template_rows": null,
      "height": null,
      "justify_content": null,
      "justify_items": null,
      "left": null,
      "margin": null,
      "max_height": null,
      "max_width": null,
      "min_height": null,
      "min_width": null,
      "object_fit": null,
      "object_position": null,
      "order": null,
      "overflow": null,
      "overflow_x": null,
      "overflow_y": null,
      "padding": null,
      "right": null,
      "top": null,
      "visibility": null,
      "width": null
     }
    },
    "e303376e01ee44fbaf9612c1b5be22de": {
     "model_module": "@jupyter-widgets/controls",
     "model_module_version": "1.5.0",
     "model_name": "HTMLModel",
     "state": {
      "_dom_classes": [],
      "_model_module": "@jupyter-widgets/controls",
      "_model_module_version": "1.5.0",
      "_model_name": "HTMLModel",
      "_view_count": null,
      "_view_module": "@jupyter-widgets/controls",
      "_view_module_version": "1.5.0",
      "_view_name": "HTMLView",
      "description": "",
      "description_tooltip": null,
      "layout": "IPY_MODEL_d7df0b8fe2eb4241a0129c1b6b90ab1a",
      "placeholder": "​",
      "style": "IPY_MODEL_9383ca5b3a4a477dbd2530b94b0edf29",
      "value": " [100%]   00:03 -&gt; (00:00 left)"
     }
    }
   }
  }
 },
 "nbformat": 4,
 "nbformat_minor": 1
}
